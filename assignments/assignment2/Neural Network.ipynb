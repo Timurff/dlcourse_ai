{
 "cells": [
  {
   "cell_type": "markdown",
   "metadata": {},
   "source": [
    "# Задание 2.1 - Нейронные сети\n",
    "\n",
    "В этом задании вы реализуете и натренируете настоящую нейроную сеть своими руками!\n",
    "\n",
    "В некотором смысле это будет расширением прошлого задания - нам нужно просто составить несколько линейных классификаторов вместе!\n",
    "\n",
    "<img src=\"https://i.redd.it/n9fgba8b0qr01.png\" alt=\"Stack_more_layers\" width=\"400px\"/>"
   ]
  },
  {
   "cell_type": "code",
   "execution_count": 1,
   "metadata": {},
   "outputs": [],
   "source": [
    "import numpy as np\n",
    "import matplotlib.pyplot as plt\n",
    "\n",
    "%matplotlib inline\n",
    "\n",
    "%load_ext autoreload\n",
    "%autoreload 2"
   ]
  },
  {
   "cell_type": "code",
   "execution_count": 2,
   "metadata": {},
   "outputs": [],
   "source": [
    "from dataset import load_svhn, random_split_train_val\n",
    "from gradient_check import check_layer_gradient, check_layer_param_gradient, check_model_gradient\n",
    "from layers import FullyConnectedLayer, ReLULayer\n",
    "from model import TwoLayerNet\n",
    "from trainer import Trainer, Dataset\n",
    "from optim import SGD, MomentumSGD\n",
    "from metrics import multiclass_accuracy"
   ]
  },
  {
   "cell_type": "markdown",
   "metadata": {},
   "source": [
    "# Загружаем данные\n",
    "\n",
    "И разделяем их на training и validation."
   ]
  },
  {
   "cell_type": "code",
   "execution_count": 3,
   "metadata": {},
   "outputs": [],
   "source": [
    "def prepare_for_neural_network(train_X, test_X):\n",
    "    train_flat = train_X.reshape(train_X.shape[0], -1).astype(np.float) / 255.0\n",
    "    test_flat = test_X.reshape(test_X.shape[0], -1).astype(np.float) / 255.0\n",
    "    \n",
    "    # Subtract mean\n",
    "    mean_image = np.mean(train_flat, axis = 0)\n",
    "    train_flat -= mean_image\n",
    "    test_flat -= mean_image\n",
    "    \n",
    "    return train_flat, test_flat\n",
    "    \n",
    "train_X, train_y, test_X, test_y = load_svhn(\"data\", max_train=10000, max_test=1000)    \n",
    "train_X, test_X = prepare_for_neural_network(train_X, test_X)\n",
    "# Split train into train and val\n",
    "train_X, train_y, val_X, val_y = random_split_train_val(train_X, train_y, num_val = 1000)"
   ]
  },
  {
   "cell_type": "markdown",
   "metadata": {},
   "source": [
    "# Как всегда, начинаем с кирпичиков\n",
    "\n",
    "Мы будем реализовывать необходимые нам слои по очереди. Каждый слой должен реализовать:\n",
    "- прямой проход (forward pass), который генерирует выход слоя по входу и запоминает необходимые данные\n",
    "- обратный проход (backward pass), который получает градиент по выходу слоя и вычисляет градиент по входу и по параметрам\n",
    "\n",
    "Начнем с ReLU, у которого параметров нет."
   ]
  },
  {
   "cell_type": "code",
   "execution_count": 4,
   "metadata": {},
   "outputs": [
    {
     "name": "stdout",
     "output_type": "stream",
     "text": [
      "Gradient check passed!\n"
     ]
    }
   ],
   "source": [
    "# TODO: Implement ReLULayer layer in layers.py\n",
    "# Note: you'll need to copy implementation of the gradient_check function from the previous assignment\n",
    "\n",
    "X = np.array([[1,-2,3],\n",
    "              [-1, 2, 0.1]\n",
    "              ])\n",
    "\n",
    "assert check_layer_gradient(ReLULayer(), X)"
   ]
  },
  {
   "cell_type": "markdown",
   "metadata": {},
   "source": [
    "А теперь реализуем полносвязный слой (fully connected layer), у которого будет два массива параметров: W (weights) и B (bias).\n",
    "\n",
    "Все параметры наши слои будут использовать для параметров специальный класс `Param`, в котором будут храниться значения параметров и градиенты этих параметров, вычисляемые во время обратного прохода.\n",
    "\n",
    "Это даст возможность аккумулировать (суммировать) градиенты из разных частей функции потерь, например, из cross-entropy loss и regularization loss."
   ]
  },
  {
   "cell_type": "code",
   "execution_count": 5,
   "metadata": {},
   "outputs": [
    {
     "name": "stdout",
     "output_type": "stream",
     "text": [
      "Gradient check passed!\n",
      "Gradient check passed!\n",
      "Gradient check passed!\n"
     ]
    }
   ],
   "source": [
    "# TODO: Implement FullyConnected layer forward and backward methods\n",
    "assert check_layer_gradient(FullyConnectedLayer(3, 4), X)\n",
    "# TODO: Implement storing gradients for W and B\n",
    "assert check_layer_param_gradient(FullyConnectedLayer(3, 4), X, 'W')\n",
    "assert check_layer_param_gradient(FullyConnectedLayer(3, 4), X, 'B')"
   ]
  },
  {
   "cell_type": "markdown",
   "metadata": {},
   "source": [
    "## Создаем нейронную сеть\n",
    "\n",
    "Теперь мы реализуем простейшую нейронную сеть с двумя полносвязным слоями и нелинейностью ReLU. Реализуйте функцию `compute_loss_and_gradients`, она должна запустить прямой и обратный проход через оба слоя для вычисления градиентов.\n",
    "\n",
    "Не забудьте реализовать очистку градиентов в начале функции."
   ]
  },
  {
   "cell_type": "code",
   "execution_count": 6,
   "metadata": {},
   "outputs": [],
   "source": [
    "# TODO: In model.py, implement compute_loss_and_gradients function\n",
    "model = TwoLayerNet(n_input = train_X.shape[1], n_output = 10, hidden_layer_size = 3, reg = 0)\n",
    "loss = model.compute_loss_and_gradients(train_X[:2], train_y[:2])"
   ]
  },
  {
   "cell_type": "code",
   "execution_count": 7,
   "metadata": {},
   "outputs": [
    {
     "name": "stdout",
     "output_type": "stream",
     "text": [
      "Checking gradient for W_f\n",
      "Gradient check passed!\n",
      "Checking gradient for B_f\n",
      "Gradient check passed!\n",
      "Checking gradient for W_o\n",
      "Gradient check passed!\n",
      "Checking gradient for B_o\n",
      "Gradient check passed!\n"
     ]
    },
    {
     "data": {
      "text/plain": [
       "True"
      ]
     },
     "execution_count": 7,
     "metadata": {},
     "output_type": "execute_result"
    }
   ],
   "source": [
    "# TODO Now implement backward pass and aggregate all of the params\n",
    "check_model_gradient(model, train_X[:2], train_y[:2])"
   ]
  },
  {
   "cell_type": "markdown",
   "metadata": {},
   "source": [
    "Теперь добавьте к модели регуляризацию - она должна прибавляться к loss и делать свой вклад в градиенты."
   ]
  },
  {
   "cell_type": "code",
   "execution_count": 8,
   "metadata": {},
   "outputs": [
    {
     "name": "stdout",
     "output_type": "stream",
     "text": [
      "Checking gradient for W_f\n",
      "Gradient check passed!\n",
      "Checking gradient for B_f\n",
      "Gradient check passed!\n",
      "Checking gradient for W_o\n",
      "Gradient check passed!\n",
      "Checking gradient for B_o\n",
      "Gradient check passed!\n"
     ]
    },
    {
     "data": {
      "text/plain": [
       "True"
      ]
     },
     "execution_count": 8,
     "metadata": {},
     "output_type": "execute_result"
    }
   ],
   "source": [
    "# TODO Now implement l2 regularization in the forward and backward pass\n",
    "model_with_reg = TwoLayerNet(n_input = train_X.shape[1], n_output = 10, hidden_layer_size = 3, reg = 1e1)\n",
    "loss_with_reg = model_with_reg.compute_loss_and_gradients(train_X[:2], train_y[:2])\n",
    "assert loss_with_reg > loss and not np.isclose(loss_with_reg, loss), \\\n",
    "    \"Loss with regularization (%2.4f) should be higher than without it (%2.4f)!\" % (loss, loss_with_reg)\n",
    "\n",
    "check_model_gradient(model_with_reg, train_X[:2], train_y[:2])"
   ]
  },
  {
   "cell_type": "markdown",
   "metadata": {},
   "source": [
    "Также реализуем функцию предсказания (вычисления значения) модели на новых данных.\n",
    "\n",
    "Какое значение точности мы ожидаем увидеть до начала тренировки?"
   ]
  },
  {
   "cell_type": "code",
   "execution_count": null,
   "metadata": {},
   "outputs": [],
   "source": [
    "# Finally, implement predict function!\n",
    "\n",
    "# TODO: Implement predict function\n",
    "# What would be the value we expect?\n",
    "multiclass_accuracy(model_with_reg.predict(train_X[:30]), train_y[:30]) "
   ]
  },
  {
   "cell_type": "markdown",
   "metadata": {},
   "source": [
    "# Допишем код для процесса тренировки\n",
    "\n",
    "Если все реализовано корректно, значение функции ошибки должно уменьшаться с каждой эпохой, пусть и медленно. Не беспокойтесь пока про validation accuracy."
   ]
  },
  {
   "cell_type": "code",
   "execution_count": null,
   "metadata": {},
   "outputs": [],
   "source": [
    "model = TwoLayerNet(n_input = train_X.shape[1], n_output = 10, hidden_layer_size = 100, reg = 1e1)\n",
    "dataset = Dataset(train_X, train_y, val_X, val_y)\n",
    "trainer = Trainer(model, dataset, SGD(), learning_rate = 1e-2)\n",
    "\n",
    "# TODO Implement missing pieces in Trainer.fit function\n",
    "# You should expect loss to go down every epoch, even if it's slow\n",
    "loss_history, train_history, val_history = trainer.fit()"
   ]
  },
  {
   "cell_type": "code",
   "execution_count": null,
   "metadata": {},
   "outputs": [],
   "source": [
    "plt.plot(val_history)"
   ]
  },
  {
   "cell_type": "markdown",
   "metadata": {},
   "source": [
    "# Улучшаем процесс тренировки\n",
    "\n",
    "Мы реализуем несколько ключевых оптимизаций, необходимых для тренировки современных нейросетей."
   ]
  },
  {
   "cell_type": "markdown",
   "metadata": {},
   "source": [
    "## Уменьшение скорости обучения (learning rate decay)\n",
    "\n",
    "Одна из необходимых оптимизаций во время тренировки нейронных сетей - постепенное уменьшение скорости обучения по мере тренировки.\n",
    "\n",
    "Один из стандартных методов - уменьшение скорости обучения (learning rate) каждые N эпох на коэффициент d (часто называемый decay). Значения N и d, как всегда, являются гиперпараметрами и должны подбираться на основе эффективности на проверочных данных (validation data). \n",
    "\n",
    "В нашем случае N будет равным 1."
   ]
  },
  {
   "cell_type": "code",
   "execution_count": 9,
   "metadata": {},
   "outputs": [
    {
     "name": "stdout",
     "output_type": "stream",
     "text": [
      "Loss: 2.256525, Train accuracy: 0.196667, val accuracy: 0.206000\n",
      "Loss: 2.234441, Train accuracy: 0.196667, val accuracy: 0.206000\n",
      "Loss: 2.218914, Train accuracy: 0.196667, val accuracy: 0.206000\n",
      "Loss: 2.299450, Train accuracy: 0.196667, val accuracy: 0.206000\n",
      "Loss: 2.250664, Train accuracy: 0.196667, val accuracy: 0.206000\n",
      "Loss: 2.204869, Train accuracy: 0.196667, val accuracy: 0.206000\n",
      "Loss: 2.342985, Train accuracy: 0.196667, val accuracy: 0.206000\n",
      "Loss: 2.242468, Train accuracy: 0.196667, val accuracy: 0.206000\n",
      "Loss: 2.280940, Train accuracy: 0.196667, val accuracy: 0.206000\n",
      "Loss: 2.261426, Train accuracy: 0.196667, val accuracy: 0.206000\n",
      "Loss: 2.259669, Train accuracy: 0.196667, val accuracy: 0.206000\n",
      "Loss: 2.301263, Train accuracy: 0.196667, val accuracy: 0.206000\n",
      "Loss: 2.339280, Train accuracy: 0.196667, val accuracy: 0.206000\n",
      "Loss: 2.269502, Train accuracy: 0.196667, val accuracy: 0.206000\n",
      "Loss: 2.367929, Train accuracy: 0.196667, val accuracy: 0.206000\n",
      "Loss: 2.226076, Train accuracy: 0.196667, val accuracy: 0.206000\n",
      "Loss: 2.319615, Train accuracy: 0.196667, val accuracy: 0.206000\n",
      "Loss: 2.310587, Train accuracy: 0.196667, val accuracy: 0.206000\n",
      "Loss: 2.297189, Train accuracy: 0.196667, val accuracy: 0.206000\n",
      "Loss: 2.290700, Train accuracy: 0.196667, val accuracy: 0.206000\n",
      "CPU times: user 3min 14s, sys: 7.25 s, total: 3min 21s\n",
      "Wall time: 1min 59s\n"
     ]
    }
   ],
   "source": [
    "%%time\n",
    "# TODO Implement learning rate decay inside Trainer.fit method\n",
    "# Decay should happen once per epoch\n",
    "\n",
    "model = TwoLayerNet(n_input = train_X.shape[1], n_output = 10, hidden_layer_size = 100, reg = 1e-1)\n",
    "dataset = Dataset(train_X, train_y, val_X, val_y)\n",
    "trainer = Trainer(model, dataset, SGD(), learning_rate_decay=0.99)\n",
    "\n",
    "initial_learning_rate = trainer.learning_rate\n",
    "loss_history, train_history, val_history = trainer.fit()\n",
    "\n",
    "assert trainer.learning_rate < initial_learning_rate, \"Learning rate should've been reduced\"\n",
    "assert trainer.learning_rate > 0.5*initial_learning_rate, \"Learning rate shouldn'tve been reduced that much!\""
   ]
  },
  {
   "cell_type": "markdown",
   "metadata": {},
   "source": [
    "# Накопление импульса (Momentum SGD)\n",
    "\n",
    "Другой большой класс оптимизаций - использование более эффективных методов градиентного спуска. Мы реализуем один из них - накопление импульса (Momentum SGD).\n",
    "\n",
    "Этот метод хранит скорость движения, использует градиент для ее изменения на каждом шаге, и изменяет веса пропорционально значению скорости.\n",
    "(Физическая аналогия: Вместо скорости градиенты теперь будут задавать ускорение, но будет присутствовать сила трения.)\n",
    "\n",
    "```\n",
    "velocity = momentum * velocity - learning_rate * gradient \n",
    "w = w + velocity\n",
    "```\n",
    "\n",
    "`momentum` здесь коэффициент затухания, который тоже является гиперпараметром (к счастью, для него часто есть хорошее значение по умолчанию, типичный диапазон -- 0.8-0.99).\n",
    "\n",
    "Несколько полезных ссылок, где метод разбирается более подробно:  \n",
    "http://cs231n.github.io/neural-networks-3/#sgd  \n",
    "https://distill.pub/2017/momentum/"
   ]
  },
  {
   "cell_type": "code",
   "execution_count": 12,
   "metadata": {},
   "outputs": [
    {
     "name": "stdout",
     "output_type": "stream",
     "text": [
      "Loss: 2.321589, Train accuracy: 0.196667, val accuracy: 0.206000\n",
      "Loss: 2.308842, Train accuracy: 0.196667, val accuracy: 0.206000\n",
      "Loss: 2.328583, Train accuracy: 0.196667, val accuracy: 0.206000\n",
      "Loss: 2.311105, Train accuracy: 0.196667, val accuracy: 0.206000\n",
      "Loss: 2.298171, Train accuracy: 0.196667, val accuracy: 0.206000\n",
      "Loss: 2.320564, Train accuracy: 0.196667, val accuracy: 0.206000\n",
      "Loss: 2.298090, Train accuracy: 0.196667, val accuracy: 0.206000\n",
      "Loss: 2.295084, Train accuracy: 0.196667, val accuracy: 0.206000\n",
      "Loss: 2.286347, Train accuracy: 0.196667, val accuracy: 0.206000\n",
      "Loss: 2.298940, Train accuracy: 0.196667, val accuracy: 0.206000\n",
      "Loss: 2.271637, Train accuracy: 0.196667, val accuracy: 0.206000\n",
      "Loss: 2.246265, Train accuracy: 0.196667, val accuracy: 0.206000\n",
      "Loss: 2.263952, Train accuracy: 0.196667, val accuracy: 0.206000\n",
      "Loss: 2.282328, Train accuracy: 0.196667, val accuracy: 0.206000\n",
      "Loss: 2.303354, Train accuracy: 0.196667, val accuracy: 0.206000\n",
      "Loss: 2.312183, Train accuracy: 0.196667, val accuracy: 0.206000\n",
      "Loss: 2.227054, Train accuracy: 0.196667, val accuracy: 0.206000\n",
      "Loss: 2.309227, Train accuracy: 0.196667, val accuracy: 0.206000\n",
      "Loss: 2.299941, Train accuracy: 0.196667, val accuracy: 0.206000\n",
      "Loss: 2.294867, Train accuracy: 0.196667, val accuracy: 0.206000\n"
     ]
    }
   ],
   "source": [
    "# TODO: Implement MomentumSGD.update function in optim.py\n",
    "\n",
    "model = TwoLayerNet(n_input = train_X.shape[1], n_output = 10, hidden_layer_size = 100, reg = 1e-1)\n",
    "dataset = Dataset(train_X, train_y, val_X, val_y)\n",
    "trainer = Trainer(model, dataset, MomentumSGD(), learning_rate=1e-4, learning_rate_decay=0.99)\n",
    "\n",
    "# You should see even better results than before!\n",
    "loss_history, train_history, val_history = trainer.fit()"
   ]
  },
  {
   "cell_type": "markdown",
   "metadata": {},
   "source": [
    "# Ну что, давайте уже тренировать сеть!"
   ]
  },
  {
   "cell_type": "markdown",
   "metadata": {},
   "source": [
    "## Последний тест - переобучимся (overfit) на маленьком наборе данных\n",
    "\n",
    "Хороший способ проверить, все ли реализовано корректно - переобучить сеть на маленьком наборе данных.  \n",
    "Наша модель обладает достаточной мощностью, чтобы приблизить маленький набор данных идеально, поэтому мы ожидаем, что на нем мы быстро дойдем до 100% точности на тренировочном наборе. \n",
    "\n",
    "Если этого не происходит, то где-то была допущена ошибка!"
   ]
  },
  {
   "cell_type": "code",
   "execution_count": 13,
   "metadata": {},
   "outputs": [
    {
     "name": "stdout",
     "output_type": "stream",
     "text": [
      "Loss: 2.327410, Train accuracy: 0.200000, val accuracy: 0.133333\n",
      "Loss: 2.320083, Train accuracy: 0.200000, val accuracy: 0.133333\n",
      "Loss: 2.289252, Train accuracy: 0.266667, val accuracy: 0.066667\n",
      "Loss: 2.308940, Train accuracy: 0.200000, val accuracy: 0.133333\n",
      "Loss: 2.320659, Train accuracy: 0.266667, val accuracy: 0.000000\n",
      "Loss: 2.289031, Train accuracy: 0.200000, val accuracy: 0.066667\n",
      "Loss: 2.222463, Train accuracy: 0.200000, val accuracy: 0.066667\n",
      "Loss: 2.324424, Train accuracy: 0.266667, val accuracy: 0.000000\n",
      "Loss: 2.154590, Train accuracy: 0.400000, val accuracy: 0.000000\n",
      "Loss: 2.023246, Train accuracy: 0.400000, val accuracy: 0.000000\n",
      "Loss: 2.225072, Train accuracy: 0.400000, val accuracy: 0.000000\n",
      "Loss: 2.285561, Train accuracy: 0.400000, val accuracy: 0.000000\n",
      "Loss: 1.937338, Train accuracy: 0.400000, val accuracy: 0.000000\n",
      "Loss: 2.256106, Train accuracy: 0.333333, val accuracy: 0.000000\n",
      "Loss: 2.059993, Train accuracy: 0.400000, val accuracy: 0.000000\n",
      "Loss: 1.817945, Train accuracy: 0.333333, val accuracy: 0.000000\n",
      "Loss: 1.900509, Train accuracy: 0.400000, val accuracy: 0.000000\n",
      "Loss: 2.103888, Train accuracy: 0.400000, val accuracy: 0.000000\n",
      "Loss: 1.791192, Train accuracy: 0.400000, val accuracy: 0.000000\n",
      "Loss: 1.555586, Train accuracy: 0.400000, val accuracy: 0.000000\n",
      "Loss: 1.636571, Train accuracy: 0.400000, val accuracy: 0.000000\n",
      "Loss: 1.897066, Train accuracy: 0.400000, val accuracy: 0.066667\n",
      "Loss: 2.018809, Train accuracy: 0.466667, val accuracy: 0.000000\n",
      "Loss: 1.840979, Train accuracy: 0.466667, val accuracy: 0.066667\n",
      "Loss: 1.916182, Train accuracy: 0.466667, val accuracy: 0.066667\n",
      "Loss: 1.662042, Train accuracy: 0.400000, val accuracy: 0.066667\n",
      "Loss: 1.996277, Train accuracy: 0.466667, val accuracy: 0.000000\n",
      "Loss: 1.390068, Train accuracy: 0.466667, val accuracy: 0.000000\n",
      "Loss: 2.111016, Train accuracy: 0.466667, val accuracy: 0.000000\n",
      "Loss: 1.365520, Train accuracy: 0.466667, val accuracy: 0.066667\n",
      "Loss: 1.783365, Train accuracy: 0.533333, val accuracy: 0.066667\n",
      "Loss: 2.078871, Train accuracy: 0.600000, val accuracy: 0.066667\n",
      "Loss: 1.771633, Train accuracy: 0.533333, val accuracy: 0.066667\n",
      "Loss: 1.469982, Train accuracy: 0.600000, val accuracy: 0.000000\n",
      "Loss: 2.088529, Train accuracy: 0.600000, val accuracy: 0.066667\n",
      "Loss: 1.616318, Train accuracy: 0.666667, val accuracy: 0.066667\n",
      "Loss: 1.017328, Train accuracy: 0.600000, val accuracy: 0.066667\n",
      "Loss: 2.012809, Train accuracy: 0.666667, val accuracy: 0.066667\n",
      "Loss: 1.395406, Train accuracy: 0.666667, val accuracy: 0.066667\n",
      "Loss: 1.503200, Train accuracy: 0.666667, val accuracy: 0.000000\n",
      "Loss: 2.106185, Train accuracy: 0.666667, val accuracy: 0.066667\n",
      "Loss: 1.453658, Train accuracy: 0.666667, val accuracy: 0.066667\n",
      "Loss: 1.606006, Train accuracy: 0.733333, val accuracy: 0.066667\n",
      "Loss: 0.917024, Train accuracy: 0.666667, val accuracy: 0.066667\n",
      "Loss: 1.894875, Train accuracy: 0.666667, val accuracy: 0.133333\n",
      "Loss: 0.873903, Train accuracy: 0.666667, val accuracy: 0.066667\n",
      "Loss: 1.059077, Train accuracy: 0.600000, val accuracy: 0.000000\n",
      "Loss: 1.347083, Train accuracy: 0.733333, val accuracy: 0.066667\n",
      "Loss: 1.217074, Train accuracy: 0.733333, val accuracy: 0.000000\n",
      "Loss: 1.464663, Train accuracy: 0.733333, val accuracy: 0.066667\n",
      "Loss: 1.654389, Train accuracy: 0.733333, val accuracy: 0.066667\n",
      "Loss: 1.314797, Train accuracy: 0.733333, val accuracy: 0.066667\n",
      "Loss: 1.215677, Train accuracy: 0.733333, val accuracy: 0.066667\n",
      "Loss: 1.268172, Train accuracy: 0.733333, val accuracy: 0.133333\n",
      "Loss: 1.623697, Train accuracy: 0.733333, val accuracy: 0.066667\n",
      "Loss: 2.126987, Train accuracy: 0.733333, val accuracy: 0.066667\n",
      "Loss: 1.520663, Train accuracy: 0.733333, val accuracy: 0.133333\n",
      "Loss: 1.662447, Train accuracy: 0.733333, val accuracy: 0.066667\n",
      "Loss: 1.657400, Train accuracy: 0.733333, val accuracy: 0.066667\n",
      "Loss: 1.959316, Train accuracy: 0.733333, val accuracy: 0.066667\n",
      "Loss: 1.006298, Train accuracy: 0.733333, val accuracy: 0.066667\n",
      "Loss: 1.388993, Train accuracy: 0.733333, val accuracy: 0.000000\n",
      "Loss: 1.641731, Train accuracy: 0.733333, val accuracy: 0.066667\n",
      "Loss: 1.612008, Train accuracy: 0.733333, val accuracy: 0.066667\n",
      "Loss: 0.939976, Train accuracy: 0.733333, val accuracy: 0.066667\n",
      "Loss: 1.310661, Train accuracy: 0.733333, val accuracy: 0.066667\n",
      "Loss: 1.402829, Train accuracy: 0.733333, val accuracy: 0.066667\n",
      "Loss: 2.041131, Train accuracy: 0.733333, val accuracy: 0.066667\n",
      "Loss: 1.263911, Train accuracy: 0.733333, val accuracy: 0.066667\n",
      "Loss: 1.707535, Train accuracy: 0.733333, val accuracy: 0.066667\n",
      "Loss: 1.435593, Train accuracy: 0.733333, val accuracy: 0.066667\n",
      "Loss: 1.269179, Train accuracy: 0.733333, val accuracy: 0.066667\n",
      "Loss: 1.980496, Train accuracy: 0.800000, val accuracy: 0.066667\n",
      "Loss: 1.380823, Train accuracy: 0.733333, val accuracy: 0.066667\n",
      "Loss: 1.854140, Train accuracy: 0.800000, val accuracy: 0.066667\n",
      "Loss: 1.221445, Train accuracy: 0.800000, val accuracy: 0.066667\n",
      "Loss: 1.265226, Train accuracy: 0.733333, val accuracy: 0.066667\n",
      "Loss: 0.978592, Train accuracy: 0.866667, val accuracy: 0.066667\n",
      "Loss: 1.308900, Train accuracy: 0.866667, val accuracy: 0.066667\n",
      "Loss: 0.944708, Train accuracy: 0.866667, val accuracy: 0.066667\n",
      "Loss: 1.301568, Train accuracy: 0.866667, val accuracy: 0.066667\n",
      "Loss: 1.317031, Train accuracy: 0.866667, val accuracy: 0.066667\n",
      "Loss: 1.327699, Train accuracy: 0.866667, val accuracy: 0.066667\n",
      "Loss: 1.321290, Train accuracy: 0.866667, val accuracy: 0.066667\n",
      "Loss: 1.908466, Train accuracy: 0.866667, val accuracy: 0.066667\n",
      "Loss: 1.598206, Train accuracy: 0.866667, val accuracy: 0.066667\n",
      "Loss: 1.981545, Train accuracy: 0.866667, val accuracy: 0.066667\n",
      "Loss: 1.325163, Train accuracy: 0.933333, val accuracy: 0.066667\n",
      "Loss: 1.528435, Train accuracy: 0.933333, val accuracy: 0.066667\n",
      "Loss: 1.499792, Train accuracy: 0.933333, val accuracy: 0.066667\n",
      "Loss: 0.992025, Train accuracy: 0.933333, val accuracy: 0.066667\n",
      "Loss: 1.337135, Train accuracy: 0.933333, val accuracy: 0.066667\n",
      "Loss: 1.992397, Train accuracy: 0.933333, val accuracy: 0.066667\n",
      "Loss: 1.296704, Train accuracy: 0.933333, val accuracy: 0.066667\n",
      "Loss: 1.394492, Train accuracy: 0.933333, val accuracy: 0.066667\n",
      "Loss: 1.276378, Train accuracy: 0.933333, val accuracy: 0.066667\n",
      "Loss: 1.184449, Train accuracy: 0.933333, val accuracy: 0.066667\n",
      "Loss: 2.026730, Train accuracy: 0.933333, val accuracy: 0.066667\n",
      "Loss: 1.643225, Train accuracy: 0.933333, val accuracy: 0.066667\n",
      "Loss: 1.272442, Train accuracy: 0.933333, val accuracy: 0.066667\n",
      "Loss: 0.904825, Train accuracy: 0.933333, val accuracy: 0.066667\n",
      "Loss: 1.201823, Train accuracy: 0.933333, val accuracy: 0.066667\n",
      "Loss: 1.690311, Train accuracy: 0.933333, val accuracy: 0.000000\n",
      "Loss: 1.872460, Train accuracy: 0.933333, val accuracy: 0.000000\n",
      "Loss: 1.546509, Train accuracy: 1.000000, val accuracy: 0.000000\n",
      "Loss: 0.975243, Train accuracy: 0.933333, val accuracy: 0.000000\n",
      "Loss: 1.108553, Train accuracy: 1.000000, val accuracy: 0.000000\n",
      "Loss: 1.129680, Train accuracy: 0.933333, val accuracy: 0.000000\n",
      "Loss: 1.252334, Train accuracy: 0.933333, val accuracy: 0.000000\n",
      "Loss: 1.285143, Train accuracy: 0.933333, val accuracy: 0.000000\n",
      "Loss: 1.532930, Train accuracy: 1.000000, val accuracy: 0.000000\n",
      "Loss: 1.615539, Train accuracy: 1.000000, val accuracy: 0.000000\n",
      "Loss: 1.423823, Train accuracy: 1.000000, val accuracy: 0.000000\n",
      "Loss: 1.185558, Train accuracy: 1.000000, val accuracy: 0.000000\n",
      "Loss: 1.453253, Train accuracy: 1.000000, val accuracy: 0.000000\n",
      "Loss: 1.161617, Train accuracy: 1.000000, val accuracy: 0.000000\n",
      "Loss: 1.400484, Train accuracy: 1.000000, val accuracy: 0.000000\n",
      "Loss: 1.429537, Train accuracy: 1.000000, val accuracy: 0.000000\n",
      "Loss: 1.372575, Train accuracy: 1.000000, val accuracy: 0.000000\n",
      "Loss: 1.297572, Train accuracy: 1.000000, val accuracy: 0.000000\n",
      "Loss: 1.284102, Train accuracy: 1.000000, val accuracy: 0.000000\n",
      "Loss: 1.354551, Train accuracy: 0.933333, val accuracy: 0.000000\n",
      "Loss: 1.354219, Train accuracy: 0.933333, val accuracy: 0.000000\n",
      "Loss: 1.254422, Train accuracy: 1.000000, val accuracy: 0.000000\n",
      "Loss: 1.384877, Train accuracy: 1.000000, val accuracy: 0.000000\n",
      "Loss: 1.383410, Train accuracy: 1.000000, val accuracy: 0.000000\n",
      "Loss: 1.303520, Train accuracy: 1.000000, val accuracy: 0.000000\n",
      "Loss: 1.054253, Train accuracy: 1.000000, val accuracy: 0.000000\n",
      "Loss: 1.061401, Train accuracy: 1.000000, val accuracy: 0.000000\n",
      "Loss: 1.304365, Train accuracy: 1.000000, val accuracy: 0.000000\n",
      "Loss: 1.265087, Train accuracy: 1.000000, val accuracy: 0.000000\n",
      "Loss: 1.244390, Train accuracy: 1.000000, val accuracy: 0.000000\n",
      "Loss: 1.454347, Train accuracy: 1.000000, val accuracy: 0.000000\n",
      "Loss: 1.079895, Train accuracy: 1.000000, val accuracy: 0.000000\n",
      "Loss: 1.369006, Train accuracy: 1.000000, val accuracy: 0.000000\n",
      "Loss: 1.542919, Train accuracy: 1.000000, val accuracy: 0.000000\n",
      "Loss: 1.316662, Train accuracy: 1.000000, val accuracy: 0.000000\n",
      "Loss: 1.219198, Train accuracy: 1.000000, val accuracy: 0.000000\n",
      "Loss: 1.508047, Train accuracy: 1.000000, val accuracy: 0.000000\n",
      "Loss: 1.398367, Train accuracy: 1.000000, val accuracy: 0.000000\n",
      "Loss: 1.015648, Train accuracy: 1.000000, val accuracy: 0.000000\n",
      "Loss: 1.456608, Train accuracy: 1.000000, val accuracy: 0.000000\n",
      "Loss: 1.319327, Train accuracy: 1.000000, val accuracy: 0.000000\n",
      "Loss: 1.236683, Train accuracy: 1.000000, val accuracy: 0.000000\n",
      "Loss: 1.111305, Train accuracy: 1.000000, val accuracy: 0.000000\n",
      "Loss: 1.607161, Train accuracy: 1.000000, val accuracy: 0.000000\n",
      "Loss: 1.213441, Train accuracy: 1.000000, val accuracy: 0.000000\n",
      "Loss: 1.148516, Train accuracy: 1.000000, val accuracy: 0.000000\n",
      "Loss: 1.261201, Train accuracy: 1.000000, val accuracy: 0.000000\n",
      "Loss: 1.282930, Train accuracy: 1.000000, val accuracy: 0.000000\n"
     ]
    }
   ],
   "source": [
    "data_size = 15\n",
    "model = TwoLayerNet(n_input = train_X.shape[1], n_output = 10, hidden_layer_size = 100, reg = 1e-1)\n",
    "dataset = Dataset(train_X[:data_size], train_y[:data_size], val_X[:data_size], val_y[:data_size])\n",
    "trainer = Trainer(model, dataset, SGD(), learning_rate=1e-1, num_epochs=150, batch_size=5)\n",
    "\n",
    "# You should expect this to reach 1.0 training accuracy \n",
    "loss_history, train_history, val_history = trainer.fit()"
   ]
  },
  {
   "cell_type": "markdown",
   "metadata": {},
   "source": [
    "Теперь найдем гипепараметры, для которых этот процесс сходится быстрее.\n",
    "Если все реализовано корректно, то существуют параметры, при которых процесс сходится в **20** эпох или еще быстрее.\n",
    "Найдите их!"
   ]
  },
  {
   "cell_type": "code",
   "execution_count": 14,
   "metadata": {},
   "outputs": [
    {
     "name": "stdout",
     "output_type": "stream",
     "text": [
      "Loss: 2.339219, Train accuracy: 0.333333, val accuracy: 0.066667\n",
      "Loss: 2.335774, Train accuracy: 0.266667, val accuracy: 0.066667\n",
      "Loss: 2.321083, Train accuracy: 0.333333, val accuracy: 0.066667\n",
      "Loss: 2.302072, Train accuracy: 0.200000, val accuracy: 0.066667\n",
      "Loss: 2.293384, Train accuracy: 0.266667, val accuracy: 0.000000\n",
      "Loss: 2.248353, Train accuracy: 0.266667, val accuracy: 0.000000\n",
      "Loss: 2.277228, Train accuracy: 0.266667, val accuracy: 0.000000\n",
      "Loss: 2.258979, Train accuracy: 0.266667, val accuracy: 0.000000\n",
      "Loss: 2.112022, Train accuracy: 0.400000, val accuracy: 0.000000\n",
      "Loss: 2.268878, Train accuracy: 0.400000, val accuracy: 0.000000\n",
      "Loss: 1.979844, Train accuracy: 0.400000, val accuracy: 0.000000\n",
      "Loss: 2.070946, Train accuracy: 0.400000, val accuracy: 0.000000\n",
      "Loss: 1.694663, Train accuracy: 0.333333, val accuracy: 0.000000\n",
      "Loss: 1.645093, Train accuracy: 0.333333, val accuracy: 0.000000\n",
      "Loss: 1.586927, Train accuracy: 0.333333, val accuracy: 0.000000\n",
      "Loss: 1.777201, Train accuracy: 0.333333, val accuracy: 0.000000\n",
      "Loss: 1.970722, Train accuracy: 0.333333, val accuracy: 0.000000\n",
      "Loss: 1.635650, Train accuracy: 0.400000, val accuracy: 0.000000\n",
      "Loss: 1.516906, Train accuracy: 0.400000, val accuracy: 0.000000\n",
      "Loss: 2.379200, Train accuracy: 0.466667, val accuracy: 0.066667\n"
     ]
    }
   ],
   "source": [
    "# Now, tweak some hyper parameters and make it train to 1.0 accuracy in 20 epochs or less\n",
    "\n",
    "model = TwoLayerNet(n_input = train_X.shape[1], n_output = 10, hidden_layer_size = 100, reg = 1e-1)\n",
    "dataset = Dataset(train_X[:data_size], train_y[:data_size], val_X[:data_size], val_y[:data_size])\n",
    "# TODO: Change any hyperparamers or optimizators to reach training accuracy in 20 epochs\n",
    "trainer = Trainer(model, dataset, SGD(), learning_rate=1e-1, num_epochs=20, batch_size=5)\n",
    "\n",
    "loss_history, train_history, val_history = trainer.fit()"
   ]
  },
  {
   "cell_type": "markdown",
   "metadata": {},
   "source": [
    "# Итак, основное мероприятие!\n",
    "\n",
    "Натренируйте лучшую нейросеть! Можно добавлять и изменять параметры, менять количество нейронов в слоях сети и как угодно экспериментировать. \n",
    "\n",
    "Добейтесь точности лучше **60%** на validation set."
   ]
  },
  {
   "cell_type": "code",
   "execution_count": 25,
   "metadata": {},
   "outputs": [],
   "source": [
    "import itertools\n",
    "from sklearn.preprocessing import StandardScaler"
   ]
  },
  {
   "cell_type": "code",
   "execution_count": 51,
   "metadata": {},
   "outputs": [],
   "source": [
    "from tqdm import tqdm\n",
    "import copy"
   ]
  },
  {
   "cell_type": "code",
   "execution_count": 103,
   "metadata": {
    "scrolled": true
   },
   "outputs": [],
   "source": [
    "# Let's train the best one-hidden-layer network we can\n",
    "\n",
    "learning_rates = 1e-4\n",
    "reg_strength = 1e-3\n",
    "learning_rate_decay = 0.999\n",
    "hidden_layer_size = 128\n",
    "num_epochs = 200\n",
    "batch_size = 64\n",
    "\n",
    "learning_rates = np.linspace(0.10, 0.3, num=5)\n",
    "reg_strengths = np.linspace(0.05, 0.25, num=5)\n",
    "num_epochs = range(20, 41, 10)\n",
    "learning_rate_decay = np.linspace(0.8, 0.999, num=5)\n",
    "hidden_layer_size = [2**i for i in range(5, 8)]"
   ]
  },
  {
   "cell_type": "code",
   "execution_count": 104,
   "metadata": {},
   "outputs": [],
   "source": [
    "scaler = StandardScaler()"
   ]
  },
  {
   "cell_type": "code",
   "execution_count": 105,
   "metadata": {},
   "outputs": [],
   "source": [
    "scaled_train_X = scaler.fit_transform(train_X)\n",
    "scaled_val_X = scaler.transform(val_X)"
   ]
  },
  {
   "cell_type": "code",
   "execution_count": 107,
   "metadata": {
    "scrolled": true
   },
   "outputs": [
    {
     "name": "stderr",
     "output_type": "stream",
     "text": [
      "100%|██████████| 1125/1125 [05:08<00:00,  3.65it/s]"
     ]
    },
    {
     "name": "stdout",
     "output_type": "stream",
     "text": [
      "best validation accuracy achieved: 0.266667\n"
     ]
    },
    {
     "name": "stderr",
     "output_type": "stream",
     "text": [
      "\n"
     ]
    }
   ],
   "source": [
    "best_classifier = None\n",
    "best_val_accuracy = -np.inf\n",
    "\n",
    "\n",
    "# TODO find the best hyperparameters to train the network\n",
    "# Don't hesitate to add new values to the arrays above, perform experiments, use any tricks you want\n",
    "# You should expect to get to at least 40% of valudation accuracy\n",
    "# Save loss/train/history of the best classifier to the variables above\n",
    "\n",
    "for lr, rs, ne, lrd, hls in tqdm(list(itertools.product(learning_rates, reg_strengths, num_epochs, learning_rate_decay, hidden_layer_size))):\n",
    "    model = TwoLayerNet(n_input = train_X.shape[1], n_output = 10, hidden_layer_size = hls, reg = rs)\n",
    "    dataset = Dataset(scaled_train_X[:data_size], train_y[:data_size], scaled_val_X[:data_size], val_y[:data_size])\n",
    "    trainer = Trainer(model, dataset, SGD(), learning_rate=lr, num_epochs=ne, batch_size=batch_size, learning_rate_decay=lrd)\n",
    "\n",
    "    loss_history, train_history, val_history = trainer.fit()\n",
    "    if val_history[-1] > best_val_accuracy:\n",
    "        best_val_accuracy = val_history[-1]\n",
    "        best_classifier = copy.copy(trainer)\n",
    "    \n",
    "        best_loss_history = loss_history.copy()\n",
    "        best_train_history = train_history.copy()\n",
    "        best_val_history = val_history.copy()\n",
    "\n",
    "print('best validation accuracy achieved: %f' % best_val_accuracy)"
   ]
  },
  {
   "cell_type": "code",
   "execution_count": 108,
   "metadata": {},
   "outputs": [
    {
     "data": {
      "text/plain": [
       "[<matplotlib.lines.Line2D at 0x7f900c07e9a0>]"
      ]
     },
     "execution_count": 108,
     "metadata": {},
     "output_type": "execute_result"
    },
    {
     "data": {
      "image/png": "[encoded data removed]",
      "text/plain": [
       "<Figure size 1080x504 with 2 Axes>"
      ]
     },
     "metadata": {
      "needs_background": "light"
     },
     "output_type": "display_data"
    }
   ],
   "source": [
    "plt.figure(figsize=(15, 7))\n",
    "plt.subplot(211)\n",
    "plt.title(\"Loss\")\n",
    "plt.plot(loss_history)\n",
    "plt.subplot(212)\n",
    "plt.title(\"Train/validation accuracy\")\n",
    "plt.plot(train_history)\n",
    "plt.plot(val_history)"
   ]
  },
  {
   "cell_type": "markdown",
   "metadata": {},
   "source": [
    "# Как обычно, посмотрим, как наша лучшая модель работает на тестовых данных"
   ]
  },
  {
   "cell_type": "code",
   "execution_count": 109,
   "metadata": {},
   "outputs": [
    {
     "name": "stdout",
     "output_type": "stream",
     "text": [
      "64 40 0.19215404214716236 0.999 64 0.05\n"
     ]
    }
   ],
   "source": [
    "print(best_classifier.batch_size, best_classifier.num_epochs, best_classifier.learning_rate, best_classifier.learning_rate_decay, best_classifier.model.hidden_layer_size, best_classifier.model.reg)"
   ]
  },
  {
   "cell_type": "code",
   "execution_count": 111,
   "metadata": {},
   "outputs": [],
   "source": [
    "scaled_test_X = scaler.transform(test_X)"
   ]
  },
  {
   "cell_type": "code",
   "execution_count": 112,
   "metadata": {},
   "outputs": [
    {
     "name": "stdout",
     "output_type": "stream",
     "text": [
      "Neural net test set accuracy: 0.178000\n"
     ]
    }
   ],
   "source": [
    "test_pred = best_classifier.model.predict(scaled_test_X)\n",
    "test_accuracy = multiclass_accuracy(test_pred, test_y)\n",
    "print('Neural net test set accuracy: %f' % (test_accuracy, ))"
   ]
  }
 ],
 "metadata": {
  "kernelspec": {
   "display_name": "Python 3",
   "language": "python",
   "name": "python3"
  },
  "language_info": {
   "codemirror_mode": {
    "name": "ipython",
    "version": 3
   },
   "file_extension": ".py",
   "mimetype": "text/x-python",
   "name": "python",
   "nbconvert_exporter": "python",
   "pygments_lexer": "ipython3",
   "version": "3.8.3"
  }
 },
 "nbformat": 4,
 "nbformat_minor": 4
}
