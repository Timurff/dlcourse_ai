{
 "cells": [
  {
   "cell_type": "markdown",
   "metadata": {
    "id": "YAtyIWsf2stm"
   },
   "source": [
    "# Задание 3.2 - сверточные нейронные сети (CNNs) в PyTorch\n",
    "\n",
    "Это упражнение мы буде выполнять в Google Colab - https://colab.research.google.com/  \n",
    "Google Colab позволяет запускать код в notebook в облаке Google, где можно воспользоваться бесплатным GPU!  \n",
    "\n",
    "Авторы курса благодарят компанию Google и надеятся, что праздник не закончится.\n",
    "\n",
    "Туториал по настройке Google Colab:  \n",
    "https://medium.com/deep-learning-turkey/google-colab-free-gpu-tutorial-e113627b9f5d  \n",
    "(Keras инсталлировать не нужно, наш notebook сам установит PyTorch)\n"
   ]
  },
  {
   "cell_type": "code",
   "execution_count": 1,
   "metadata": {
    "colab": {
     "base_uri": "https://localhost:8080/"
    },
    "id": "FcXBeP1O7cnY",
    "outputId": "8fdf00d6-83df-4c9a-849a-34b6bac44b40"
   },
   "outputs": [
    {
     "name": "stdout",
     "output_type": "stream",
     "text": [
      "Requirement already satisfied: torch in /usr/local/lib/python3.7/dist-packages (1.8.1+cu101)\n",
      "Requirement already satisfied: torchvision in /usr/local/lib/python3.7/dist-packages (0.9.1+cu101)\n",
      "Requirement already satisfied: numpy in /usr/local/lib/python3.7/dist-packages (from torch) (1.19.5)\n",
      "Requirement already satisfied: typing-extensions in /usr/local/lib/python3.7/dist-packages (from torch) (3.7.4.3)\n",
      "Requirement already satisfied: pillow>=4.1.1 in /usr/local/lib/python3.7/dist-packages (from torchvision) (7.1.2)\n",
      "--2021-05-31 06:13:44--  http://ufldl.stanford.edu/housenumbers/train_32x32.mat\n",
      "Resolving ufldl.stanford.edu (ufldl.stanford.edu)... 171.64.68.10\n",
      "Connecting to ufldl.stanford.edu (ufldl.stanford.edu)|171.64.68.10|:80... connected.\n",
      "HTTP request sent, awaiting response... 200 OK\n",
      "Length: 182040794 (174M) [text/plain]\n",
      "Saving to: ‘train_32x32.mat’\n",
      "\n",
      "train_32x32.mat     100%[===================>] 173.61M  37.8MB/s    in 5.3s    \n",
      "\n",
      "2021-05-31 06:13:49 (32.6 MB/s) - ‘train_32x32.mat’ saved [182040794/182040794]\n",
      "\n",
      "--2021-05-31 06:13:49--  http://ufldl.stanford.edu/housenumbers/test_32x32.mat\n",
      "Reusing existing connection to ufldl.stanford.edu:80.\n",
      "HTTP request sent, awaiting response... 200 OK\n",
      "Length: 64275384 (61M) [text/plain]\n",
      "Saving to: ‘test_32x32.mat’\n",
      "\n",
      "test_32x32.mat      100%[===================>]  61.30M  39.4MB/s    in 1.6s    \n",
      "\n",
      "2021-05-31 06:13:51 (39.4 MB/s) - ‘test_32x32.mat’ saved [64275384/64275384]\n",
      "\n",
      "FINISHED --2021-05-31 06:13:51--\n",
      "Total wall clock time: 7.1s\n",
      "Downloaded: 2 files, 235M in 6.9s (34.1 MB/s)\n"
     ]
    }
   ],
   "source": [
    "# Intstall PyTorch and download data\n",
    "!pip3 install torch torchvision\n",
    "\n",
    "!wget -c http://ufldl.stanford.edu/housenumbers/train_32x32.mat http://ufldl.stanford.edu/housenumbers/test_32x32.mat"
   ]
  },
  {
   "cell_type": "code",
   "execution_count": 2,
   "metadata": {
    "id": "-afwWw-Q85vD"
   },
   "outputs": [],
   "source": [
    "from collections import namedtuple\n",
    "\n",
    "import matplotlib.pyplot as plt\n",
    "import numpy as np\n",
    "import PIL\n",
    "import torch\n",
    "import torch.nn as nn\n",
    "import torch.optim as optim\n",
    "import torchvision.datasets as dset\n",
    "from torch.utils.data.sampler import SubsetRandomSampler\n",
    "\n",
    "from torchvision import transforms"
   ]
  },
  {
   "cell_type": "code",
   "execution_count": 3,
   "metadata": {
    "id": "NNU-OD9O9ltP"
   },
   "outputs": [],
   "source": [
    "device = torch.device(\"cuda:0\") # Let's make sure GPU is available!"
   ]
  },
  {
   "cell_type": "code",
   "execution_count": 4,
   "metadata": {
    "colab": {
     "base_uri": "https://localhost:8080/"
    },
    "id": "IcHZmsm0272L",
    "outputId": "ee94febf-1394-4c36-893e-0606a51e20ff"
   },
   "outputs": [
    {
     "data": {
      "text/plain": [
       "device(type='cuda', index=0)"
      ]
     },
     "execution_count": 4,
     "metadata": {
      "tags": []
     },
     "output_type": "execute_result"
    }
   ],
   "source": [
    "device"
   ]
  },
  {
   "cell_type": "markdown",
   "metadata": {
    "id": "QhC8EdOW2str"
   },
   "source": [
    "# Загружаем данные"
   ]
  },
  {
   "cell_type": "code",
   "execution_count": 5,
   "metadata": {
    "id": "YAvkoRx-9FsP"
   },
   "outputs": [],
   "source": [
    "# First, lets load the dataset\n",
    "data_train = dset.SVHN('./', \n",
    "                       transform=transforms.Compose([\n",
    "                           transforms.ToTensor(),\n",
    "                           transforms.Normalize(mean=[0.43,0.44,0.47],\n",
    "                                               std=[0.20,0.20,0.20])                           \n",
    "                       ])\n",
    "                      )\n",
    "data_test = dset.SVHN('./', split='test', transform=transforms.Compose([\n",
    "                           transforms.ToTensor(),\n",
    "                           transforms.Normalize(mean=[0.43,0.44,0.47],\n",
    "                                               std=[0.20,0.20,0.20])                           \n",
    "                       ]))"
   ]
  },
  {
   "cell_type": "markdown",
   "metadata": {
    "id": "SqQMJ9po2stt"
   },
   "source": [
    "Разделяем данные на training и validation.\n",
    "\n",
    "На всякий случай для подробностей - https://pytorch.org/tutorials/beginner/data_loading_tutorial.html"
   ]
  },
  {
   "cell_type": "code",
   "execution_count": 6,
   "metadata": {
    "id": "YRnr8CPg7Hli"
   },
   "outputs": [],
   "source": [
    "batch_size = 64\n",
    "\n",
    "data_size = data_train.data.shape[0]\n",
    "validation_split = .2\n",
    "split = int(np.floor(validation_split * data_size))\n",
    "indices = list(range(data_size))\n",
    "np.random.shuffle(indices)\n",
    "\n",
    "train_indices, val_indices = indices[split:], indices[:split]\n",
    "\n",
    "train_sampler = SubsetRandomSampler(train_indices)\n",
    "val_sampler = SubsetRandomSampler(val_indices)\n",
    "\n",
    "train_loader = torch.utils.data.DataLoader(data_train, batch_size=batch_size, \n",
    "                                           sampler=train_sampler)\n",
    "val_loader = torch.utils.data.DataLoader(data_train, batch_size=batch_size,\n",
    "                                         sampler=val_sampler)"
   ]
  },
  {
   "cell_type": "code",
   "execution_count": 7,
   "metadata": {
    "id": "LyYvt-T67PBG"
   },
   "outputs": [],
   "source": [
    "# We'll use a special helper module to shape it into a flat tensor\n",
    "class Flattener(nn.Module):\n",
    "    def forward(self, x):\n",
    "        batch_size, *_ = x.shape\n",
    "        return x.view(batch_size, -1)"
   ]
  },
  {
   "cell_type": "markdown",
   "metadata": {
    "id": "HEANdW-z2stu"
   },
   "source": [
    "Создадим простейшую сеть с новыми слоями:  \n",
    "Convolutional - `nn.Conv2d`  \n",
    "MaxPool - `nn.MaxPool2d`"
   ]
  },
  {
   "cell_type": "code",
   "execution_count": 8,
   "metadata": {
    "id": "w9SFVGZP7SQd"
   },
   "outputs": [],
   "source": [
    "nn_model = nn.Sequential(\n",
    "            nn.Conv2d(3, 64, 3, padding=1),\n",
    "            nn.ReLU(inplace=True),\n",
    "            nn.MaxPool2d(4),\n",
    "            nn.Conv2d(64, 64, 3, padding=1),\n",
    "            nn.ReLU(inplace=True),\n",
    "            nn.MaxPool2d(4),    \n",
    "            Flattener(),\n",
    "            nn.Linear(64*2*2, 10),\n",
    "          )\n",
    "\n",
    "nn_model.type(torch.cuda.FloatTensor)\n",
    "nn_model.to(device)\n",
    "\n",
    "loss = nn.CrossEntropyLoss().type(torch.cuda.FloatTensor)\n",
    "optimizer = optim.SGD(nn_model.parameters(), lr=1e-1, weight_decay=1e-4)"
   ]
  },
  {
   "cell_type": "markdown",
   "metadata": {
    "id": "7YkLu5002stu"
   },
   "source": [
    "Восстановите функцию `compute_accuracy` из прошлого задания.  \n",
    "Единственное отличие в новом - она должна передать данные на GPU прежде чем прогонять через модель. Сделайте это так же, как это делает функция `train_model`"
   ]
  },
  {
   "cell_type": "code",
   "execution_count": 9,
   "metadata": {
    "colab": {
     "base_uri": "https://localhost:8080/"
    },
    "id": "2ek3KVQK7hJ6",
    "outputId": "7971ffc2-3c5d-4f6e-dd54-0ac74d87c515"
   },
   "outputs": [
    {
     "name": "stdout",
     "output_type": "stream",
     "text": [
      "epoch number 0\n",
      "Average loss: 1.424487, Train accuracy: 0.522404, Val accuracy: 0.735376\n",
      "Average loss: 0.687619, Train accuracy: 0.791762, Val accuracy: 0.799331\n",
      "Average loss: 0.583968, Train accuracy: 0.826195, Val accuracy: 0.817828\n",
      "Average loss: 0.537634, Train accuracy: 0.840204, Val accuracy: 0.816258\n",
      "Average loss: 0.513988, Train accuracy: 0.847371, Val accuracy: 0.841513\n"
     ]
    }
   ],
   "source": [
    "def compute_val_loss(model, loader):\n",
    "    \"\"\"\n",
    "    Computes accuracy on the dataset wrapped in a loader\n",
    "    \n",
    "    Returns: accuracy as a float value between 0 and 1\n",
    "    \"\"\"\n",
    "    model.eval() # Evaluation mode\n",
    "    # TODO: Implement the inference of the model on all of the batches from loader,\n",
    "    #       and compute the overall accuracy.\n",
    "    # Hint: PyTorch has the argmax function!\n",
    "    loss_accum = 0\n",
    "    \n",
    "    for x, y in loader:\n",
    "        x_gpu = x.to(device)\n",
    "        y_gpu = y.to(device)\n",
    "        preds = model(x_gpu)\n",
    "        loss_accum += float(loss(preds, y_gpu))\n",
    "        \n",
    "    return loss_accum\n",
    "\n",
    "\n",
    "def train_model(model, train_loader, val_loader, loss, optimizer, num_epochs, sheduler=None):    \n",
    "    loss_history = []\n",
    "    train_history = []\n",
    "    val_history = []\n",
    "    for epoch in range(num_epochs):\n",
    "        if epoch % 5 == 0:\n",
    "            print(f'epoch number {epoch}')\n",
    "        model.train() # Enter train mode\n",
    "        \n",
    "        loss_accum = 0\n",
    "        correct_samples = 0\n",
    "        total_samples = 0\n",
    "        for i_step, (x, y) in enumerate(train_loader):\n",
    "          \n",
    "            x_gpu = x.to(device)\n",
    "            y_gpu = y.to(device)\n",
    "            prediction = model(x_gpu)    \n",
    "            loss_value = loss(prediction, y_gpu)\n",
    "            optimizer.zero_grad()\n",
    "            loss_value.backward()\n",
    "            optimizer.step()\n",
    "            \n",
    "            _, indices = torch.max(prediction, 1)\n",
    "            correct_samples += torch.sum(indices == y_gpu)\n",
    "            total_samples += y.shape[0]\n",
    "            \n",
    "            loss_accum += loss_value\n",
    "\n",
    "        ave_loss = loss_accum / i_step\n",
    "        train_accuracy = float(correct_samples) / total_samples\n",
    "        val_accuracy = compute_accuracy(model, val_loader)\n",
    "        val_loss = compute_val_loss(model, val_loader)\n",
    "\n",
    "        if sheduler is not None:\n",
    "            if isinstance(sheduler, optim.lr_scheduler.ReduceLROnPlateau):\n",
    "                sheduler.step(val_loss)\n",
    "            else:\n",
    "                sheduler.step()\n",
    "\n",
    "        loss_history.append(float(ave_loss))\n",
    "        train_history.append(train_accuracy)\n",
    "        val_history.append(val_accuracy)\n",
    "        \n",
    "        print(\"Average loss: %f, Train accuracy: %f, Val accuracy: %f\" % (ave_loss, train_accuracy, val_accuracy))\n",
    "        \n",
    "    return loss_history, train_history, val_history\n",
    "        \n",
    "\n",
    "def compute_accuracy(model, loader):\n",
    "    \"\"\"\n",
    "    Computes accuracy on the dataset wrapped in a loader\n",
    "    \n",
    "    Returns: accuracy as a float value between 0 and 1\n",
    "    \"\"\"\n",
    "    model.eval() \n",
    "    # Evaluation mode\n",
    "    # TODO: Copy implementation from previous assignment\n",
    "    # Don't forget to move the data to device before running it through the model!\n",
    "    \n",
    "    correct_samples = 0\n",
    "    total_samples = 0\n",
    "    \n",
    "    for x, y in loader:\n",
    "        x_gpu = x.to(device)\n",
    "        y_gpu = y.to(device)\n",
    "\n",
    "        preds = model(x_gpu)\n",
    "        _, indices = torch.max(preds, 1)\n",
    "        correct_samples += torch.sum(indices == y_gpu)\n",
    "        total_samples += y_gpu.shape[0]\n",
    "    \n",
    "    return float(correct_samples) / total_samples\n",
    "\n",
    "loss_history, train_history, val_history = train_model(nn_model, train_loader, val_loader, loss, optimizer, 5)"
   ]
  },
  {
   "cell_type": "markdown",
   "metadata": {
    "id": "6a-3a1ZFGEw_"
   },
   "source": [
    "# Аугментация данных (Data augmentation)\n",
    "\n",
    "В работе с изображениями одним из особенно важных методов является аугментация данных - то есть, генерация дополнительных данных для тренировки на основе изначальных.   \n",
    "Таким образом, мы получаем возможность \"увеличить\" набор данных для тренировки, что ведет к лучшей работе сети.\n",
    "Важно, чтобы аугментированные данные были похожи на те, которые могут встретиться в реальной жизни, иначе польза от аугментаций уменьшается и может ухудшить работу сети.\n",
    "\n",
    "С PyTorch идут несколько таких алгоритмов, называемых `transforms`. Более подробно про них можно прочитать тут -\n",
    "https://pytorch.org/tutorials/beginner/data_loading_tutorial.html#transforms\n",
    "\n",
    "Ниже мы используем следующие алгоритмы генерации:\n",
    "- ColorJitter - случайное изменение цвета\n",
    "- RandomHorizontalFlip - горизонтальное отражение с вероятностью 50%\n",
    "- RandomVerticalFlip - вертикальное отражение с вероятностью 50%\n",
    "- RandomRotation - случайный поворот"
   ]
  },
  {
   "cell_type": "code",
   "execution_count": 10,
   "metadata": {
    "colab": {
     "base_uri": "https://localhost:8080/"
    },
    "id": "jCWMUWmr7t5g",
    "outputId": "f3957b03-f5a3-4ed5-e42f-8bd01ea7120b"
   },
   "outputs": [
    {
     "name": "stderr",
     "output_type": "stream",
     "text": [
      "/usr/local/lib/python3.7/dist-packages/torchvision/transforms/transforms.py:1201: UserWarning: Argument resample is deprecated and will be removed since v0.10.0. Please, use interpolation instead\n",
      "  \"Argument resample is deprecated and will be removed since v0.10.0. Please, use interpolation instead\"\n"
     ]
    }
   ],
   "source": [
    "tfs = transforms.Compose([\n",
    "    transforms.ColorJitter(hue=.50, saturation=.50),\n",
    "    transforms.RandomHorizontalFlip(),\n",
    "    transforms.RandomVerticalFlip(),\n",
    "    transforms.RandomRotation(50, resample=PIL.Image.BILINEAR),\n",
    "    transforms.ToTensor(),\n",
    "    transforms.Normalize(mean=[0.43,0.44,0.47],\n",
    "                       std=[0.20,0.20,0.20])                           \n",
    "])\n",
    "\n",
    "# Create augmented train dataset\n",
    "data_aug_train = dset.SVHN('./', \n",
    "                       transform=tfs\n",
    "                      )\n",
    "\n",
    "train_aug_loader = torch.utils.data.DataLoader(data_aug_train, batch_size=batch_size, \n",
    "                                           sampler=train_sampler)"
   ]
  },
  {
   "cell_type": "markdown",
   "metadata": {
    "id": "FYdA9tNr2sty"
   },
   "source": [
    "Визуализируем результаты агментации (вообще, смотреть на сгенерированные данные всегда очень полезно)."
   ]
  },
  {
   "cell_type": "code",
   "execution_count": 11,
   "metadata": {
    "colab": {
     "base_uri": "https://localhost:8080/",
     "height": 206
    },
    "id": "YlJJEro1KZ45",
    "outputId": "c7e9c870-db01-4d61-f689-d7b0c63963c3"
   },
   "outputs": [
    {
     "name": "stderr",
     "output_type": "stream",
     "text": [
      "/usr/local/lib/python3.7/dist-packages/torchvision/transforms/transforms.py:1201: UserWarning: Argument resample is deprecated and will be removed since v0.10.0. Please, use interpolation instead\n",
      "  \"Argument resample is deprecated and will be removed since v0.10.0. Please, use interpolation instead\"\n"
     ]
    },
    {
     "data": {
      "image/png": "[encoded data removed]",
      "text/plain": [
       "<Figure size 2160x216 with 10 Axes>"
      ]
     },
     "metadata": {
      "needs_background": "light",
      "tags": []
     },
     "output_type": "display_data"
    }
   ],
   "source": [
    "# TODO: Visualize some augmented images!\n",
    "# hint: you can create new datasets and loaders to accomplish this\n",
    "\n",
    "# Based on the visualizations, should we keep all the augmentations?\n",
    "\n",
    "tfs = transforms.Compose([\n",
    "    transforms.ColorJitter(hue=.20, saturation=.20),\n",
    "    transforms.RandomHorizontalFlip(),\n",
    "    transforms.RandomVerticalFlip(),\n",
    "    transforms.RandomRotation(10, resample=PIL.Image.BILINEAR),\n",
    "])\n",
    "\n",
    "data_aug_vis = dset.SVHN('./', \n",
    "                       transform=tfs\n",
    "                      )\n",
    "\n",
    "plt.figure(figsize=(30, 3))\n",
    "\n",
    "for i, (x, y) in enumerate(data_aug_vis):\n",
    "    if i == 10:\n",
    "        break\n",
    "    plt.subplot(1, 10, i+1)\n",
    "    plt.grid(False)\n",
    "    plt.imshow(x)\n",
    "    plt.axis('off')"
   ]
  },
  {
   "cell_type": "markdown",
   "metadata": {
    "id": "o2LrmsYHoguB"
   },
   "source": [
    "Все ли агментации одинаково полезны на этом наборе данных? Могут ли быть среди них те, которые собьют модель с толку?\n",
    "\n",
    "Выберите из них только корректные"
   ]
  },
  {
   "cell_type": "code",
   "execution_count": 12,
   "metadata": {
    "colab": {
     "base_uri": "https://localhost:8080/"
    },
    "id": "evro9ksXGs9u",
    "outputId": "2287a2f9-a469-4a22-ff08-d89a0295cd42"
   },
   "outputs": [
    {
     "name": "stderr",
     "output_type": "stream",
     "text": [
      "/usr/local/lib/python3.7/dist-packages/torchvision/transforms/transforms.py:1201: UserWarning: Argument resample is deprecated and will be removed since v0.10.0. Please, use interpolation instead\n",
      "  \"Argument resample is deprecated and will be removed since v0.10.0. Please, use interpolation instead\"\n"
     ]
    }
   ],
   "source": [
    "# TODO: \n",
    "tfs = transforms.Compose([\n",
    "    transforms.ColorJitter(hue=.20, saturation=.20),\n",
    "    transforms.RandomHorizontalFlip(),\n",
    "    transforms.RandomRotation(10, resample=PIL.Image.BILINEAR),\n",
    "    transforms.ToTensor(),\n",
    "    transforms.Normalize(mean=[0.43,0.44,0.47],\n",
    "                       std=[0.20,0.20,0.20])                           \n",
    "])\n",
    "\n",
    "data_aug_train = dset.SVHN('./', \n",
    "                       transform=tfs\n",
    "                      )\n",
    "\n",
    "train_aug_loader = torch.utils.data.DataLoader(data_aug_train, batch_size=batch_size, \n",
    "                                           sampler=train_sampler)"
   ]
  },
  {
   "cell_type": "code",
   "execution_count": 13,
   "metadata": {
    "colab": {
     "base_uri": "https://localhost:8080/"
    },
    "id": "PeO6Zw0DHqPR",
    "outputId": "64ff8fe4-683a-43c0-99de-a9b754231af8"
   },
   "outputs": [
    {
     "name": "stdout",
     "output_type": "stream",
     "text": [
      "epoch number 0\n",
      "Average loss: 1.001039, Train accuracy: 0.671433, Val accuracy: 0.747799\n",
      "Average loss: 0.843871, Train accuracy: 0.726769, Val accuracy: 0.777899\n",
      "Average loss: 0.798323, Train accuracy: 0.743542, Val accuracy: 0.786363\n",
      "Average loss: 0.767177, Train accuracy: 0.753455, Val accuracy: 0.772985\n",
      "Average loss: 0.743733, Train accuracy: 0.762140, Val accuracy: 0.772302\n"
     ]
    }
   ],
   "source": [
    "# Finally, let's train with augmentations!\n",
    "\n",
    "# Note we shouldn't use augmentations on validation\n",
    "\n",
    "loss_history, train_history, val_history = train_model(nn_model, train_aug_loader, val_loader, loss, optimizer, 5)"
   ]
  },
  {
   "cell_type": "markdown",
   "metadata": {
    "id": "r0bcioK6JBDK"
   },
   "source": [
    "# LeNet\n",
    "Попробуем имплементировать классическую архитектуру сверточной нейронной сети, предложенную Яном ЛеКуном в 1998 году. В свое время она достигла впечатляющих результатов на MNIST, посмотрим как она справится с SVHN?\n",
    "Она описана в статье [\"Gradient Based Learning Applied to Document Recognition\"](http://yann.lecun.com/exdb/publis/pdf/lecun-01a.pdf), попробуйте прочитать ключевые части и имплементировать предложенную архитетуру на PyTorch.\n",
    "\n",
    "Реализовывать слои и функцию ошибки LeNet, которых нет в PyTorch, **не нужно** - просто возьмите их размеры и переведите в уже известные нам Convolutional, Pooling и Fully Connected layers.\n",
    "\n",
    "Если в статье не очень понятно, можно просто погуглить LeNet и разобраться в деталях :)"
   ]
  },
  {
   "cell_type": "code",
   "execution_count": 14,
   "metadata": {
    "id": "ieEzZUglJAUB"
   },
   "outputs": [],
   "source": [
    "# TODO: Implement LeNet-like architecture for SVHN task\n",
    "lenet_model = nn.Sequential(\n",
    "    nn.Conv2d(in_channels=3, kernel_size=5, out_channels=6, stride=1),\n",
    "    nn.Tanh(),\n",
    "\n",
    "    nn.MaxPool2d(kernel_size=2),\n",
    "\n",
    "    nn.Conv2d(in_channels=6, kernel_size=5, out_channels=16),\n",
    "    nn.Tanh(),\n",
    "\n",
    "    nn.MaxPool2d(2),\n",
    "\n",
    "    nn.Conv2d(in_channels=16, out_channels=120, kernel_size=5),\n",
    "    nn.Tanh(),\n",
    "\n",
    "    nn.Flatten(),\n",
    "\n",
    "    nn.Linear(in_features=120, out_features=10),\n",
    ")\n",
    "\n",
    "lenet_model.type(torch.cuda.FloatTensor)\n",
    "lenet_model.to(device)\n",
    "\n",
    "loss = nn.CrossEntropyLoss().type(torch.cuda.FloatTensor)\n",
    "optimizer = optim.SGD(lenet_model.parameters(), lr=1e-1, weight_decay=1e-4)"
   ]
  },
  {
   "cell_type": "code",
   "execution_count": 15,
   "metadata": {
    "colab": {
     "base_uri": "https://localhost:8080/"
    },
    "id": "WMmaPfdeKk9H",
    "outputId": "ac74e5b2-d3f1-431f-e69d-6f7e9b5a1770"
   },
   "outputs": [
    {
     "name": "stdout",
     "output_type": "stream",
     "text": [
      "epoch number 0\n",
      "Average loss: 1.332580, Train accuracy: 0.549534, Val accuracy: 0.752099\n",
      "Average loss: 0.775760, Train accuracy: 0.753472, Val accuracy: 0.784929\n",
      "Average loss: 0.676480, Train accuracy: 0.785551, Val accuracy: 0.801106\n",
      "Average loss: 0.616508, Train accuracy: 0.807341, Val accuracy: 0.824312\n",
      "Average loss: 0.581721, Train accuracy: 0.820496, Val accuracy: 0.828749\n",
      "epoch number 5\n",
      "Average loss: 0.554805, Train accuracy: 0.826127, Val accuracy: 0.810388\n",
      "Average loss: 0.536220, Train accuracy: 0.831775, Val accuracy: 0.836530\n",
      "Average loss: 0.518306, Train accuracy: 0.838481, Val accuracy: 0.837349\n",
      "Average loss: 0.507587, Train accuracy: 0.842422, Val accuracy: 0.838100\n",
      "Average loss: 0.495398, Train accuracy: 0.847336, Val accuracy: 0.838919\n"
     ]
    }
   ],
   "source": [
    "# Let's train it!\n",
    "loss_history, train_history, val_history = train_model(lenet_model, train_aug_loader, val_loader, loss, optimizer, 10)"
   ]
  },
  {
   "cell_type": "markdown",
   "metadata": {
    "id": "u_O9qiYySvuj"
   },
   "source": [
    "# Подбор гиперпараметров"
   ]
  },
  {
   "cell_type": "code",
   "execution_count": 16,
   "metadata": {
    "id": "UOkpX_MXSkA9"
   },
   "outputs": [],
   "source": [
    "import itertools\n",
    "import random\n",
    "\n",
    "from scipy.stats import uniform, norm, expon, randint"
   ]
  },
  {
   "cell_type": "code",
   "execution_count": 17,
   "metadata": {
    "id": "YaDfQXrHQ9Qh"
   },
   "outputs": [],
   "source": [
    "def create_params(grid, n_iter):\n",
    "    params = []\n",
    "    for i in range(n_iter):\n",
    "        param = []\n",
    "        for key, value in grid.items():\n",
    "            if isinstance(value, list):\n",
    "                param.append(random.choice(value))\n",
    "            else:\n",
    "                param.append(value.rvs())\n",
    "        params.append(param)\n",
    "    return params"
   ]
  },
  {
   "cell_type": "code",
   "execution_count": 18,
   "metadata": {
    "id": "i6mhfdQ9K-N3"
   },
   "outputs": [],
   "source": [
    "# The key hyperparameters we're going to tune are learning speed, annealing rate and regularization\n",
    "# We also encourage you to try different optimizers as well\n",
    "\n",
    "Hyperparams = namedtuple(\"Hyperparams\", ['learning_rate', 'anneal_epochs', 'reg'])\n",
    "RunResult = namedtuple(\"RunResult\", ['model', 'train_history', 'val_history', 'final_val_accuracy'])\n",
    "\n",
    "batch_size = 64\n",
    "epoch_num = 10\n",
    "\n",
    "# Record all the runs here\n",
    "# Key should be Hyperparams and values should be RunResult\n",
    "run_record = {} \n",
    "\n",
    "# Use grid search or random search and record all runs in run_record dictionnary \n",
    "# Important: perform search in logarithmic space!\n",
    "\n",
    "grid_of_params = {\n",
    "    'learning_rates': uniform(1e-6, 1e-3),\n",
    "    # 'anneal_coeff': uniform(0, 0.3),\n",
    "    'anneal_epochs': randint(2, 7),\n",
    "    'reg': uniform(1e-6, 1e-2),\n",
    "}"
   ]
  },
  {
   "cell_type": "code",
   "execution_count": 19,
   "metadata": {
    "colab": {
     "base_uri": "https://localhost:8080/"
    },
    "id": "tZEJpX5DGhps",
    "outputId": "50be24b3-fb23-4bd9-eff4-94860316aad0"
   },
   "outputs": [
    {
     "name": "stderr",
     "output_type": "stream",
     "text": [
      "  0%|          | 0/10 [00:00<?, ?it/s]"
     ]
    },
    {
     "name": "stdout",
     "output_type": "stream",
     "text": [
      "epoch number 0\n",
      "Average loss: 0.445124, Train accuracy: 0.862744, Val accuracy: 0.862535\n",
      "Average loss: 0.443538, Train accuracy: 0.865423, Val accuracy: 0.862262\n",
      "Average loss: 0.442069, Train accuracy: 0.866191, Val accuracy: 0.862535\n",
      "Average loss: 0.446507, Train accuracy: 0.866276, Val accuracy: 0.859054\n",
      "Average loss: 0.448970, Train accuracy: 0.864997, Val accuracy: 0.863559\n",
      "epoch number 5\n",
      "Average loss: 0.447524, Train accuracy: 0.866072, Val accuracy: 0.864037\n",
      "Average loss: 0.447723, Train accuracy: 0.866379, Val accuracy: 0.862808\n",
      "Average loss: 0.452734, Train accuracy: 0.865338, Val accuracy: 0.864105\n",
      "Average loss: 0.449881, Train accuracy: 0.866328, Val accuracy: 0.860010\n"
     ]
    },
    {
     "name": "stderr",
     "output_type": "stream",
     "text": [
      " 10%|█         | 1/10 [07:46<1:10:01, 466.80s/it]"
     ]
    },
    {
     "name": "stdout",
     "output_type": "stream",
     "text": [
      "Average loss: 0.436680, Train accuracy: 0.870372, Val accuracy: 0.867995\n",
      "epoch number 0\n",
      "Average loss: 0.434406, Train accuracy: 0.872487, Val accuracy: 0.867654\n",
      "Average loss: 0.438255, Train accuracy: 0.871634, Val accuracy: 0.867449\n",
      "Average loss: 0.441736, Train accuracy: 0.871651, Val accuracy: 0.867313\n",
      "Average loss: 0.446242, Train accuracy: 0.870355, Val accuracy: 0.866767\n",
      "Average loss: 0.448412, Train accuracy: 0.869928, Val accuracy: 0.867176\n",
      "epoch number 5\n",
      "Average loss: 0.450980, Train accuracy: 0.870423, Val accuracy: 0.866767\n",
      "Average loss: 0.450992, Train accuracy: 0.870781, Val accuracy: 0.865879\n",
      "Average loss: 0.453352, Train accuracy: 0.870952, Val accuracy: 0.865948\n",
      "Average loss: 0.453825, Train accuracy: 0.869774, Val accuracy: 0.865606\n"
     ]
    },
    {
     "name": "stderr",
     "output_type": "stream",
     "text": [
      " 20%|██        | 2/10 [15:36<1:02:21, 467.74s/it]"
     ]
    },
    {
     "name": "stdout",
     "output_type": "stream",
     "text": [
      "Average loss: 0.453800, Train accuracy: 0.870559, Val accuracy: 0.865675\n",
      "epoch number 0\n",
      "Average loss: 0.471238, Train accuracy: 0.865014, Val accuracy: 0.860146\n",
      "Average loss: 0.492463, Train accuracy: 0.860475, Val accuracy: 0.860214\n",
      "Average loss: 0.507156, Train accuracy: 0.856721, Val accuracy: 0.858030\n",
      "Average loss: 0.519492, Train accuracy: 0.854486, Val accuracy: 0.852706\n",
      "Average loss: 0.531770, Train accuracy: 0.852097, Val accuracy: 0.853662\n",
      "epoch number 5\n",
      "Average loss: 0.532336, Train accuracy: 0.851636, Val accuracy: 0.853730\n",
      "Average loss: 0.532106, Train accuracy: 0.849930, Val accuracy: 0.853730\n",
      "Average loss: 0.532098, Train accuracy: 0.850664, Val accuracy: 0.853457\n",
      "Average loss: 0.534006, Train accuracy: 0.851380, Val accuracy: 0.853594\n"
     ]
    },
    {
     "name": "stderr",
     "output_type": "stream",
     "text": [
      " 30%|███       | 3/10 [23:22<54:30, 467.16s/it]  "
     ]
    },
    {
     "name": "stdout",
     "output_type": "stream",
     "text": [
      "Average loss: 0.531345, Train accuracy: 0.852268, Val accuracy: 0.853594\n",
      "epoch number 0\n",
      "Average loss: 0.607117, Train accuracy: 0.823789, Val accuracy: 0.834073\n",
      "Average loss: 0.633571, Train accuracy: 0.814882, Val accuracy: 0.822811\n",
      "Average loss: 0.645692, Train accuracy: 0.810583, Val accuracy: 0.824312\n",
      "Average loss: 0.646775, Train accuracy: 0.810685, Val accuracy: 0.819876\n",
      "Average loss: 0.648496, Train accuracy: 0.810105, Val accuracy: 0.815849\n",
      "epoch number 5\n",
      "Average loss: 0.651445, Train accuracy: 0.808450, Val accuracy: 0.820149\n",
      "Average loss: 0.650278, Train accuracy: 0.809559, Val accuracy: 0.818442\n",
      "Average loss: 0.613600, Train accuracy: 0.823550, Val accuracy: 0.834960\n",
      "Average loss: 0.606523, Train accuracy: 0.828294, Val accuracy: 0.837212\n"
     ]
    },
    {
     "name": "stderr",
     "output_type": "stream",
     "text": [
      " 40%|████      | 4/10 [31:09<46:42, 467.08s/it]"
     ]
    },
    {
     "name": "stdout",
     "output_type": "stream",
     "text": [
      "Average loss: 0.605264, Train accuracy: 0.829761, Val accuracy: 0.837759\n",
      "epoch number 0\n",
      "Average loss: 0.617730, Train accuracy: 0.819694, Val accuracy: 0.829227\n",
      "Average loss: 0.610016, Train accuracy: 0.823568, Val accuracy: 0.836120\n",
      "Average loss: 0.609729, Train accuracy: 0.824097, Val accuracy: 0.837690\n",
      "Average loss: 0.608350, Train accuracy: 0.824370, Val accuracy: 0.831820\n",
      "Average loss: 0.607533, Train accuracy: 0.823960, Val accuracy: 0.834892\n",
      "epoch number 5\n",
      "Average loss: 0.607294, Train accuracy: 0.822663, Val accuracy: 0.832639\n",
      "Average loss: 0.606498, Train accuracy: 0.824284, Val accuracy: 0.829909\n",
      "Average loss: 0.607956, Train accuracy: 0.823107, Val accuracy: 0.829295\n",
      "Average loss: 0.604328, Train accuracy: 0.824557, Val accuracy: 0.835028\n"
     ]
    },
    {
     "name": "stderr",
     "output_type": "stream",
     "text": [
      " 50%|█████     | 5/10 [38:55<38:53, 466.77s/it]"
     ]
    },
    {
     "name": "stdout",
     "output_type": "stream",
     "text": [
      "Average loss: 0.606035, Train accuracy: 0.824864, Val accuracy: 0.833663\n",
      "epoch number 0\n",
      "Average loss: 0.589907, Train accuracy: 0.829830, Val accuracy: 0.840147\n",
      "Average loss: 0.581550, Train accuracy: 0.830836, Val accuracy: 0.839260\n",
      "Average loss: 0.580918, Train accuracy: 0.832014, Val accuracy: 0.840625\n",
      "Average loss: 0.578262, Train accuracy: 0.833106, Val accuracy: 0.843492\n",
      "Average loss: 0.578934, Train accuracy: 0.833464, Val accuracy: 0.840693\n",
      "epoch number 5\n",
      "Average loss: 0.578818, Train accuracy: 0.833515, Val accuracy: 0.840557\n",
      "Average loss: 0.576661, Train accuracy: 0.833601, Val accuracy: 0.841649\n",
      "Average loss: 0.568067, Train accuracy: 0.837730, Val accuracy: 0.842673\n",
      "Average loss: 0.566974, Train accuracy: 0.836877, Val accuracy: 0.843560\n"
     ]
    },
    {
     "name": "stderr",
     "output_type": "stream",
     "text": [
      " 60%|██████    | 6/10 [46:37<31:01, 465.35s/it]"
     ]
    },
    {
     "name": "stdout",
     "output_type": "stream",
     "text": [
      "Average loss: 0.564981, Train accuracy: 0.839180, Val accuracy: 0.842809\n",
      "epoch number 0\n",
      "Average loss: 0.606766, Train accuracy: 0.824131, Val accuracy: 0.832298\n",
      "Average loss: 0.613624, Train accuracy: 0.822271, Val accuracy: 0.836530\n",
      "Average loss: 0.614607, Train accuracy: 0.821810, Val accuracy: 0.832025\n",
      "Average loss: 0.616470, Train accuracy: 0.820496, Val accuracy: 0.831206\n",
      "Average loss: 0.616149, Train accuracy: 0.822083, Val accuracy: 0.831820\n",
      "epoch number 5\n",
      "Average loss: 0.595657, Train accuracy: 0.831127, Val accuracy: 0.839124\n",
      "Average loss: 0.590960, Train accuracy: 0.832287, Val accuracy: 0.840352\n",
      "Average loss: 0.589762, Train accuracy: 0.833191, Val accuracy: 0.839806\n",
      "Average loss: 0.588315, Train accuracy: 0.834198, Val accuracy: 0.839943\n"
     ]
    },
    {
     "name": "stderr",
     "output_type": "stream",
     "text": [
      " 70%|███████   | 7/10 [54:24<23:17, 465.77s/it]"
     ]
    },
    {
     "name": "stdout",
     "output_type": "stream",
     "text": [
      "Average loss: 0.590034, Train accuracy: 0.833089, Val accuracy: 0.842059\n",
      "epoch number 0\n",
      "Average loss: 0.617747, Train accuracy: 0.815019, Val accuracy: 0.823766\n",
      "Average loss: 0.604965, Train accuracy: 0.819251, Val accuracy: 0.834960\n",
      "Average loss: 0.602179, Train accuracy: 0.819882, Val accuracy: 0.839192\n",
      "Average loss: 0.596021, Train accuracy: 0.823397, Val accuracy: 0.831343\n",
      "Average loss: 0.592452, Train accuracy: 0.824114, Val accuracy: 0.836120\n",
      "epoch number 5\n",
      "Average loss: 0.593502, Train accuracy: 0.823363, Val accuracy: 0.835165\n",
      "Average loss: 0.593319, Train accuracy: 0.824250, Val accuracy: 0.829227\n",
      "Average loss: 0.592429, Train accuracy: 0.823909, Val accuracy: 0.835711\n",
      "Average loss: 0.595844, Train accuracy: 0.822851, Val accuracy: 0.836393\n"
     ]
    },
    {
     "name": "stderr",
     "output_type": "stream",
     "text": [
      " 80%|████████  | 8/10 [1:02:12<15:32, 466.48s/it]"
     ]
    },
    {
     "name": "stdout",
     "output_type": "stream",
     "text": [
      "Average loss: 0.592456, Train accuracy: 0.823346, Val accuracy: 0.833595\n",
      "epoch number 0\n",
      "Average loss: 0.545131, Train accuracy: 0.836365, Val accuracy: 0.845540\n",
      "Average loss: 0.520886, Train accuracy: 0.841330, Val accuracy: 0.854344\n",
      "Average loss: 0.509255, Train accuracy: 0.845204, Val accuracy: 0.855368\n",
      "Average loss: 0.496312, Train accuracy: 0.848906, Val accuracy: 0.854617\n",
      "Average loss: 0.490159, Train accuracy: 0.851176, Val accuracy: 0.853389\n",
      "epoch number 5\n",
      "Average loss: 0.483815, Train accuracy: 0.853394, Val accuracy: 0.855983\n",
      "Average loss: 0.481734, Train accuracy: 0.854111, Val accuracy: 0.857621\n",
      "Average loss: 0.475789, Train accuracy: 0.856397, Val accuracy: 0.859532\n",
      "Average loss: 0.471511, Train accuracy: 0.856772, Val accuracy: 0.863491\n"
     ]
    },
    {
     "name": "stderr",
     "output_type": "stream",
     "text": [
      " 90%|█████████ | 9/10 [1:09:57<07:46, 466.10s/it]"
     ]
    },
    {
     "name": "stdout",
     "output_type": "stream",
     "text": [
      "Average loss: 0.466018, Train accuracy: 0.858513, Val accuracy: 0.866289\n",
      "epoch number 0\n",
      "Average loss: 0.531296, Train accuracy: 0.841689, Val accuracy: 0.836257\n",
      "Average loss: 0.568480, Train accuracy: 0.830990, Val accuracy: 0.838236\n",
      "Average loss: 0.582422, Train accuracy: 0.828533, Val accuracy: 0.834960\n",
      "Average loss: 0.587992, Train accuracy: 0.826775, Val accuracy: 0.836871\n",
      "Average loss: 0.592606, Train accuracy: 0.824489, Val accuracy: 0.837008\n",
      "epoch number 5\n",
      "Average loss: 0.595333, Train accuracy: 0.822800, Val accuracy: 0.833117\n",
      "Average loss: 0.593525, Train accuracy: 0.824984, Val accuracy: 0.835506\n",
      "Average loss: 0.595481, Train accuracy: 0.824233, Val accuracy: 0.831343\n",
      "Average loss: 0.594590, Train accuracy: 0.823994, Val accuracy: 0.832639\n"
     ]
    },
    {
     "name": "stderr",
     "output_type": "stream",
     "text": [
      "100%|██████████| 10/10 [1:17:39<00:00, 465.96s/it]"
     ]
    },
    {
     "name": "stdout",
     "output_type": "stream",
     "text": [
      "Average loss: 0.555980, Train accuracy: 0.839812, Val accuracy: 0.847314\n"
     ]
    },
    {
     "name": "stderr",
     "output_type": "stream",
     "text": [
      "\n"
     ]
    }
   ],
   "source": [
    "from tqdm import tqdm\n",
    "\n",
    "for lr, anneal_ap, r_str in tqdm(create_params(grid_of_params, n_iter=10)):\n",
    "    param = Hyperparams(lr, anneal_ap, r_str)\n",
    "\n",
    "    loss = nn.CrossEntropyLoss().type(torch.cuda.FloatTensor)\n",
    "    optimizer = optim.Adam(lenet_model.parameters(), lr=lr, weight_decay=r_str)\n",
    "    sheduler = optim.lr_scheduler.ReduceLROnPlateau(optimizer, patience=anneal_ap)\n",
    "\n",
    "    run_record[param] = RunResult(lenet_model, *train_model(lenet_model, \n",
    "                                                            train_aug_loader, \n",
    "                                                            val_loader, \n",
    "                                                            loss, \n",
    "                                                            optimizer, \n",
    "                                                            10, \n",
    "                                                            sheduler=sheduler))"
   ]
  },
  {
   "cell_type": "code",
   "execution_count": 28,
   "metadata": {
    "id": "FP2_qJ9QZuU_"
   },
   "outputs": [],
   "source": [
    "final_accuracies = []\n",
    "for key, value in run_record.items():\n",
    "    final_accuracies.append(value.final_val_accuracy[-1])"
   ]
  },
  {
   "cell_type": "code",
   "execution_count": 38,
   "metadata": {
    "colab": {
     "base_uri": "https://localhost:8080/"
    },
    "id": "Y6xExdw8JB1l",
    "outputId": "9a9171c2-81d0-46fb-b252-8c64aeaa5e9f"
   },
   "outputs": [
    {
     "name": "stdout",
     "output_type": "stream",
     "text": [
      "Best validation accuracy: 0.87, best hyperparams: Hyperparams(learning_rate=0.0002865932336092837, anneal_epochs=5, reg=0.0020876934704385465)\n"
     ]
    }
   ],
   "source": [
    "best_val_accuracy = None\n",
    "best_hyperparams = None\n",
    "best_run = None\n",
    "\n",
    "for hyperparams, run_accuracy in zip(run_record.keys(), final_accuracies):\n",
    "    if best_val_accuracy is None or best_val_accuracy < run_accuracy:\n",
    "        best_val_accuracy = run_accuracy\n",
    "        best_hyperparams = hyperparams\n",
    "        best_run = run_result\n",
    "        \n",
    "print(\"Best validation accuracy: %4.2f, best hyperparams: %s\" % (best_val_accuracy, best_hyperparams))"
   ]
  },
  {
   "cell_type": "markdown",
   "metadata": {
    "id": "LOmsR0uVgtgf"
   },
   "source": [
    "# Свободное упражнение - догоним и перегоним LeNet!\n",
    "\n",
    "Попробуйте найти архитектуру и настройки тренировки, чтобы выступить лучше наших бейзлайнов\n",
    "\n",
    "Что можно и нужно попробовать:\n",
    "- BatchNormalization (для convolution layers он в PyTorch называется [batchnorm2d](https://pytorch.org/docs/stable/nn.html#batchnorm2d))\n",
    "- Изменить количество слоев и их толщину\n",
    "- Изменять количество эпох тренировки\n",
    "- Попробовать и другие агментации"
   ]
  },
  {
   "cell_type": "code",
   "execution_count": 57,
   "metadata": {
    "id": "Zwe8PDUQy19C"
   },
   "outputs": [],
   "source": [
    "layers_param_grid = {\n",
    "    'conv1_out': randint(6, 13),\n",
    "    'conv2_out': randint(16, 33),\n",
    "    'n_epoch': randint(10, 26),\n",
    "    'non_linear': [nn.Tanh, nn.Sigmoid, nn.ReLU]\n",
    "}"
   ]
  },
  {
   "cell_type": "code",
   "execution_count": 58,
   "metadata": {
    "colab": {
     "base_uri": "https://localhost:8080/"
    },
    "id": "tSVhD747icoc",
    "outputId": "308ea5e2-b38c-4c0f-a2ed-02114533dd08"
   },
   "outputs": [
    {
     "name": "stderr",
     "output_type": "stream",
     "text": [
      "  0%|          | 0/10 [00:00<?, ?it/s]"
     ]
    },
    {
     "name": "stdout",
     "output_type": "stream",
     "text": [
      "Hyperparams2(conv1_out=6, conv2_out=22, n_epoch=22, non_linear=<class 'torch.nn.modules.activation.Tanh'>)\n",
      "epoch number 0\n",
      "Average loss: 1.554638, Train accuracy: 0.480241, Val accuracy: 0.677292\n",
      "Average loss: 0.952040, Train accuracy: 0.698307, Val accuracy: 0.754215\n",
      "Average loss: 0.813800, Train accuracy: 0.745299, Val accuracy: 0.775988\n",
      "Average loss: 0.756216, Train accuracy: 0.764359, Val accuracy: 0.789366\n",
      "Average loss: 0.720243, Train accuracy: 0.777463, Val accuracy: 0.794553\n",
      "epoch number 5\n",
      "Average loss: 0.703722, Train accuracy: 0.782019, Val accuracy: 0.804382\n",
      "Average loss: 0.684714, Train accuracy: 0.789185, Val accuracy: 0.805201\n",
      "Average loss: 0.669092, Train accuracy: 0.793008, Val accuracy: 0.811207\n",
      "Average loss: 0.655582, Train accuracy: 0.799338, Val accuracy: 0.816668\n",
      "Average loss: 0.648287, Train accuracy: 0.799457, Val accuracy: 0.819057\n",
      "epoch number 10\n",
      "Average loss: 0.636559, Train accuracy: 0.804303, Val accuracy: 0.819603\n",
      "Average loss: 0.626544, Train accuracy: 0.806436, Val accuracy: 0.825814\n",
      "Average loss: 0.619802, Train accuracy: 0.810497, Val accuracy: 0.824585\n",
      "Average loss: 0.610840, Train accuracy: 0.814592, Val accuracy: 0.831684\n",
      "Average loss: 0.600881, Train accuracy: 0.817834, Val accuracy: 0.831138\n",
      "epoch number 15\n",
      "Average loss: 0.595945, Train accuracy: 0.817886, Val accuracy: 0.835370\n",
      "Average loss: 0.587862, Train accuracy: 0.820923, Val accuracy: 0.837144\n",
      "Average loss: 0.586094, Train accuracy: 0.821827, Val accuracy: 0.840625\n",
      "Average loss: 0.582835, Train accuracy: 0.822578, Val accuracy: 0.842468\n",
      "Average loss: 0.577364, Train accuracy: 0.824267, Val accuracy: 0.840762\n",
      "epoch number 20\n",
      "Average loss: 0.569834, Train accuracy: 0.828004, Val accuracy: 0.841717\n"
     ]
    },
    {
     "name": "stderr",
     "output_type": "stream",
     "text": [
      " 10%|█         | 1/10 [17:23<2:36:32, 1043.64s/it]"
     ]
    },
    {
     "name": "stdout",
     "output_type": "stream",
     "text": [
      "Average loss: 0.569068, Train accuracy: 0.829113, Val accuracy: 0.840284\n",
      "Hyperparams2(conv1_out=7, conv2_out=19, n_epoch=15, non_linear=<class 'torch.nn.modules.activation.Tanh'>)\n",
      "epoch number 0\n",
      "Average loss: 1.514751, Train accuracy: 0.496502, Val accuracy: 0.675654\n",
      "Average loss: 0.962742, Train accuracy: 0.695338, Val accuracy: 0.743089\n",
      "Average loss: 0.831755, Train accuracy: 0.739719, Val accuracy: 0.760494\n",
      "Average loss: 0.779075, Train accuracy: 0.757567, Val accuracy: 0.777080\n",
      "Average loss: 0.740607, Train accuracy: 0.770109, Val accuracy: 0.787933\n",
      "epoch number 5\n",
      "Average loss: 0.713656, Train accuracy: 0.779050, Val accuracy: 0.797898\n",
      "Average loss: 0.697379, Train accuracy: 0.784971, Val accuracy: 0.803495\n",
      "Average loss: 0.686173, Train accuracy: 0.787974, Val accuracy: 0.804314\n",
      "Average loss: 0.672109, Train accuracy: 0.794663, Val accuracy: 0.807726\n",
      "Average loss: 0.657663, Train accuracy: 0.797905, Val accuracy: 0.818511\n",
      "epoch number 10\n",
      "Average loss: 0.646553, Train accuracy: 0.800959, Val accuracy: 0.819466\n",
      "Average loss: 0.637104, Train accuracy: 0.804184, Val accuracy: 0.819261\n",
      "Average loss: 0.631580, Train accuracy: 0.806453, Val accuracy: 0.823084\n",
      "Average loss: 0.621842, Train accuracy: 0.810770, Val accuracy: 0.823425\n"
     ]
    },
    {
     "name": "stderr",
     "output_type": "stream",
     "text": [
      " 20%|██        | 2/10 [29:34<2:06:37, 949.69s/it] "
     ]
    },
    {
     "name": "stdout",
     "output_type": "stream",
     "text": [
      "Average loss: 0.613284, Train accuracy: 0.812784, Val accuracy: 0.825746\n",
      "Hyperparams2(conv1_out=8, conv2_out=32, n_epoch=15, non_linear=<class 'torch.nn.modules.activation.Tanh'>)\n",
      "epoch number 0\n",
      "Average loss: 1.474503, Train accuracy: 0.513702, Val accuracy: 0.712511\n",
      "Average loss: 0.881301, Train accuracy: 0.725045, Val accuracy: 0.777626\n",
      "Average loss: 0.760159, Train accuracy: 0.763488, Val accuracy: 0.797693\n",
      "Average loss: 0.709104, Train accuracy: 0.781063, Val accuracy: 0.804860\n",
      "Average loss: 0.668172, Train accuracy: 0.792990, Val accuracy: 0.812436\n",
      "epoch number 5\n",
      "Average loss: 0.646555, Train accuracy: 0.801983, Val accuracy: 0.819125\n",
      "Average loss: 0.625017, Train accuracy: 0.806812, Val accuracy: 0.820695\n",
      "Average loss: 0.614065, Train accuracy: 0.812238, Val accuracy: 0.830933\n",
      "Average loss: 0.606109, Train accuracy: 0.814217, Val accuracy: 0.829227\n",
      "Average loss: 0.597266, Train accuracy: 0.816282, Val accuracy: 0.833458\n",
      "epoch number 10\n",
      "Average loss: 0.585544, Train accuracy: 0.819029, Val accuracy: 0.835301\n",
      "Average loss: 0.582179, Train accuracy: 0.823397, Val accuracy: 0.834960\n",
      "Average loss: 0.576250, Train accuracy: 0.824438, Val accuracy: 0.827520\n",
      "Average loss: 0.569681, Train accuracy: 0.825871, Val accuracy: 0.839943\n"
     ]
    },
    {
     "name": "stderr",
     "output_type": "stream",
     "text": [
      " 30%|███       | 3/10 [41:35<1:42:48, 881.16s/it]"
     ]
    },
    {
     "name": "stdout",
     "output_type": "stream",
     "text": [
      "Average loss: 0.566280, Train accuracy: 0.828192, Val accuracy: 0.837759\n",
      "Hyperparams2(conv1_out=6, conv2_out=23, n_epoch=20, non_linear=<class 'torch.nn.modules.activation.Tanh'>)\n",
      "epoch number 0\n",
      "Average loss: 1.487454, Train accuracy: 0.510716, Val accuracy: 0.686301\n",
      "Average loss: 0.933915, Train accuracy: 0.703153, Val accuracy: 0.753942\n",
      "Average loss: 0.805082, Train accuracy: 0.748166, Val accuracy: 0.773531\n",
      "Average loss: 0.746838, Train accuracy: 0.768095, Val accuracy: 0.795372\n",
      "Average loss: 0.718336, Train accuracy: 0.777907, Val accuracy: 0.803017\n",
      "epoch number 5\n",
      "Average loss: 0.693609, Train accuracy: 0.783401, Val accuracy: 0.806157\n",
      "Average loss: 0.677912, Train accuracy: 0.789629, Val accuracy: 0.811685\n",
      "Average loss: 0.662000, Train accuracy: 0.795106, Val accuracy: 0.817009\n",
      "Average loss: 0.651770, Train accuracy: 0.798604, Val accuracy: 0.814757\n",
      "Average loss: 0.641187, Train accuracy: 0.800225, Val accuracy: 0.822128\n",
      "epoch number 10\n",
      "Average loss: 0.633635, Train accuracy: 0.804696, Val accuracy: 0.825746\n",
      "Average loss: 0.626106, Train accuracy: 0.808398, Val accuracy: 0.829090\n",
      "Average loss: 0.619143, Train accuracy: 0.809883, Val accuracy: 0.827998\n",
      "Average loss: 0.609365, Train accuracy: 0.812801, Val accuracy: 0.829295\n",
      "Average loss: 0.603730, Train accuracy: 0.815053, Val accuracy: 0.832366\n",
      "epoch number 15\n",
      "Average loss: 0.598997, Train accuracy: 0.818790, Val accuracy: 0.836462\n",
      "Average loss: 0.591612, Train accuracy: 0.820206, Val accuracy: 0.833800\n",
      "Average loss: 0.589534, Train accuracy: 0.821435, Val accuracy: 0.834278\n",
      "Average loss: 0.581985, Train accuracy: 0.823414, Val accuracy: 0.836666\n"
     ]
    },
    {
     "name": "stderr",
     "output_type": "stream",
     "text": [
      " 40%|████      | 4/10 [57:24<1:30:08, 901.45s/it]"
     ]
    },
    {
     "name": "stdout",
     "output_type": "stream",
     "text": [
      "Average loss: 0.577997, Train accuracy: 0.825052, Val accuracy: 0.837212\n",
      "Hyperparams2(conv1_out=10, conv2_out=17, n_epoch=10, non_linear=<class 'torch.nn.modules.activation.Tanh'>)\n",
      "epoch number 0\n",
      "Average loss: 1.537126, Train accuracy: 0.485240, Val accuracy: 0.653812\n",
      "Average loss: 0.991401, Train accuracy: 0.682780, Val accuracy: 0.742134\n",
      "Average loss: 0.853018, Train accuracy: 0.733747, Val accuracy: 0.770801\n",
      "Average loss: 0.782823, Train accuracy: 0.755691, Val accuracy: 0.783018\n",
      "Average loss: 0.745644, Train accuracy: 0.767208, Val accuracy: 0.793120\n",
      "epoch number 5\n",
      "Average loss: 0.716677, Train accuracy: 0.777770, Val accuracy: 0.800150\n",
      "Average loss: 0.697875, Train accuracy: 0.785107, Val accuracy: 0.806157\n",
      "Average loss: 0.681288, Train accuracy: 0.789748, Val accuracy: 0.809842\n",
      "Average loss: 0.672396, Train accuracy: 0.793127, Val accuracy: 0.809569\n"
     ]
    },
    {
     "name": "stderr",
     "output_type": "stream",
     "text": [
      " 50%|█████     | 5/10 [1:05:11<1:04:15, 771.07s/it]"
     ]
    },
    {
     "name": "stdout",
     "output_type": "stream",
     "text": [
      "Average loss: 0.655850, Train accuracy: 0.800003, Val accuracy: 0.813665\n",
      "Hyperparams2(conv1_out=8, conv2_out=24, n_epoch=14, non_linear=<class 'torch.nn.modules.activation.Sigmoid'>)\n",
      "epoch number 0\n",
      "Average loss: 1.622790, Train accuracy: 0.486742, Val accuracy: 0.567743\n",
      "Average loss: 1.057561, Train accuracy: 0.701481, Val accuracy: 0.647601\n",
      "Average loss: 0.899376, Train accuracy: 0.738389, Val accuracy: 0.719405\n",
      "Average loss: 0.830193, Train accuracy: 0.754377, Val accuracy: 0.418333\n",
      "Average loss: 0.791702, Train accuracy: 0.763471, Val accuracy: 0.715924\n",
      "epoch number 5\n",
      "Average loss: 0.766185, Train accuracy: 0.773641, Val accuracy: 0.611494\n",
      "Average loss: 0.746684, Train accuracy: 0.778794, Val accuracy: 0.731691\n",
      "Average loss: 0.730475, Train accuracy: 0.783520, Val accuracy: 0.531568\n",
      "Average loss: 0.721839, Train accuracy: 0.784783, Val accuracy: 0.692376\n",
      "Average loss: 0.713777, Train accuracy: 0.784988, Val accuracy: 0.743635\n",
      "epoch number 10\n",
      "Average loss: 0.706585, Train accuracy: 0.789766, Val accuracy: 0.659545\n",
      "Average loss: 0.698506, Train accuracy: 0.792837, Val accuracy: 0.672173\n",
      "Average loss: 0.692151, Train accuracy: 0.794185, Val accuracy: 0.683981\n"
     ]
    },
    {
     "name": "stderr",
     "output_type": "stream",
     "text": [
      " 60%|██████    | 6/10 [1:16:12<49:12, 738.13s/it]  "
     ]
    },
    {
     "name": "stdout",
     "output_type": "stream",
     "text": [
      "Average loss: 0.689741, Train accuracy: 0.792427, Val accuracy: 0.484813\n",
      "Hyperparams2(conv1_out=7, conv2_out=29, n_epoch=10, non_linear=<class 'torch.nn.modules.activation.ReLU'>)\n",
      "epoch number 0\n",
      "Average loss: 1.206820, Train accuracy: 0.629099, Val accuracy: 0.767183\n",
      "Average loss: 0.748235, Train accuracy: 0.774648, Val accuracy: 0.816463\n",
      "Average loss: 0.653714, Train accuracy: 0.801198, Val accuracy: 0.826496\n",
      "Average loss: 0.595832, Train accuracy: 0.818380, Val accuracy: 0.840557\n",
      "Average loss: 0.562463, Train accuracy: 0.829591, Val accuracy: 0.848270\n",
      "epoch number 5\n",
      "Average loss: 0.532801, Train accuracy: 0.838822, Val accuracy: 0.856733\n",
      "Average loss: 0.514721, Train accuracy: 0.845988, Val accuracy: 0.861921\n",
      "Average loss: 0.499982, Train accuracy: 0.848480, Val accuracy: 0.863218\n",
      "Average loss: 0.480898, Train accuracy: 0.855800, Val accuracy: 0.870726\n"
     ]
    },
    {
     "name": "stderr",
     "output_type": "stream",
     "text": [
      " 70%|███████   | 7/10 [1:24:05<32:56, 658.71s/it]"
     ]
    },
    {
     "name": "stdout",
     "output_type": "stream",
     "text": [
      "Average loss: 0.467645, Train accuracy: 0.861260, Val accuracy: 0.871545\n",
      "Hyperparams2(conv1_out=11, conv2_out=20, n_epoch=21, non_linear=<class 'torch.nn.modules.activation.Tanh'>)\n",
      "epoch number 0\n",
      "Average loss: 1.475932, Train accuracy: 0.511142, Val accuracy: 0.699952\n",
      "Average loss: 0.923508, Train accuracy: 0.707624, Val accuracy: 0.758720\n",
      "Average loss: 0.804639, Train accuracy: 0.746135, Val accuracy: 0.783018\n",
      "Average loss: 0.754795, Train accuracy: 0.765963, Val accuracy: 0.790799\n",
      "Average loss: 0.722423, Train accuracy: 0.774238, Val accuracy: 0.794075\n",
      "epoch number 5\n",
      "Average loss: 0.695682, Train accuracy: 0.783247, Val accuracy: 0.808272\n",
      "Average loss: 0.678263, Train accuracy: 0.790977, Val accuracy: 0.815917\n",
      "Average loss: 0.663141, Train accuracy: 0.794850, Val accuracy: 0.817350\n",
      "Average loss: 0.648711, Train accuracy: 0.799219, Val accuracy: 0.821650\n",
      "Average loss: 0.638709, Train accuracy: 0.802017, Val accuracy: 0.819193\n",
      "epoch number 10\n",
      "Average loss: 0.631027, Train accuracy: 0.805532, Val accuracy: 0.823766\n",
      "Average loss: 0.619474, Train accuracy: 0.809542, Val accuracy: 0.825404\n",
      "Average loss: 0.610220, Train accuracy: 0.813279, Val accuracy: 0.831820\n",
      "Average loss: 0.607192, Train accuracy: 0.814541, Val accuracy: 0.827657\n",
      "Average loss: 0.597735, Train accuracy: 0.816606, Val accuracy: 0.833800\n",
      "epoch number 15\n",
      "Average loss: 0.593767, Train accuracy: 0.819012, Val accuracy: 0.839124\n",
      "Average loss: 0.584215, Train accuracy: 0.821418, Val accuracy: 0.837281\n",
      "Average loss: 0.575092, Train accuracy: 0.826656, Val accuracy: 0.841854\n",
      "Average loss: 0.571459, Train accuracy: 0.826349, Val accuracy: 0.831752\n",
      "Average loss: 0.567123, Train accuracy: 0.827526, Val accuracy: 0.842605\n",
      "epoch number 20\n"
     ]
    },
    {
     "name": "stderr",
     "output_type": "stream",
     "text": [
      " 80%|████████  | 8/10 [1:40:48<25:23, 761.92s/it]"
     ]
    },
    {
     "name": "stdout",
     "output_type": "stream",
     "text": [
      "Average loss: 0.563561, Train accuracy: 0.829215, Val accuracy: 0.841649\n",
      "Hyperparams2(conv1_out=11, conv2_out=22, n_epoch=18, non_linear=<class 'torch.nn.modules.activation.ReLU'>)\n",
      "epoch number 0\n",
      "Average loss: 1.240045, Train accuracy: 0.615432, Val accuracy: 0.769777\n",
      "Average loss: 0.758105, Train accuracy: 0.770655, Val accuracy: 0.806088\n",
      "Average loss: 0.659118, Train accuracy: 0.799219, Val accuracy: 0.825063\n",
      "Average loss: 0.603649, Train accuracy: 0.816265, Val accuracy: 0.837349\n",
      "Average loss: 0.570295, Train accuracy: 0.827663, Val accuracy: 0.848748\n",
      "epoch number 5\n",
      "Average loss: 0.538766, Train accuracy: 0.836348, Val accuracy: 0.854481\n",
      "Average loss: 0.517430, Train accuracy: 0.843634, Val accuracy: 0.860829\n",
      "Average loss: 0.500576, Train accuracy: 0.849009, Val accuracy: 0.862262\n",
      "Average loss: 0.486039, Train accuracy: 0.854639, Val accuracy: 0.870794\n",
      "Average loss: 0.474144, Train accuracy: 0.856551, Val accuracy: 0.872227\n",
      "epoch number 10\n",
      "Average loss: 0.463502, Train accuracy: 0.861004, Val accuracy: 0.869770\n",
      "Average loss: 0.453797, Train accuracy: 0.863751, Val accuracy: 0.872432\n",
      "Average loss: 0.445541, Train accuracy: 0.867607, Val accuracy: 0.875913\n",
      "Average loss: 0.436276, Train accuracy: 0.870508, Val accuracy: 0.874753\n",
      "Average loss: 0.431982, Train accuracy: 0.872436, Val accuracy: 0.878780\n",
      "epoch number 15\n",
      "Average loss: 0.429242, Train accuracy: 0.872419, Val accuracy: 0.882807\n",
      "Average loss: 0.418622, Train accuracy: 0.875559, Val accuracy: 0.883421\n"
     ]
    },
    {
     "name": "stderr",
     "output_type": "stream",
     "text": [
      " 90%|█████████ | 9/10 [1:55:07<13:11, 791.01s/it]"
     ]
    },
    {
     "name": "stdout",
     "output_type": "stream",
     "text": [
      "Average loss: 0.417613, Train accuracy: 0.876719, Val accuracy: 0.881510\n",
      "Hyperparams2(conv1_out=9, conv2_out=23, n_epoch=12, non_linear=<class 'torch.nn.modules.activation.ReLU'>)\n",
      "epoch number 0\n",
      "Average loss: 1.207584, Train accuracy: 0.626165, Val accuracy: 0.767320\n",
      "Average loss: 0.750956, Train accuracy: 0.773624, Val accuracy: 0.790594\n",
      "Average loss: 0.653493, Train accuracy: 0.801727, Val accuracy: 0.821992\n",
      "Average loss: 0.603232, Train accuracy: 0.818056, Val accuracy: 0.835028\n",
      "Average loss: 0.571493, Train accuracy: 0.826997, Val accuracy: 0.843355\n",
      "epoch number 5\n",
      "Average loss: 0.540998, Train accuracy: 0.838003, Val accuracy: 0.853184\n",
      "Average loss: 0.519275, Train accuracy: 0.843531, Val accuracy: 0.860829\n",
      "Average loss: 0.501209, Train accuracy: 0.849469, Val accuracy: 0.859941\n",
      "Average loss: 0.485378, Train accuracy: 0.854076, Val accuracy: 0.862671\n",
      "Average loss: 0.474406, Train accuracy: 0.858240, Val accuracy: 0.869497\n",
      "epoch number 10\n",
      "Average loss: 0.465748, Train accuracy: 0.860168, Val accuracy: 0.873934\n"
     ]
    },
    {
     "name": "stderr",
     "output_type": "stream",
     "text": [
      "100%|██████████| 10/10 [2:04:30<00:00, 747.05s/it]"
     ]
    },
    {
     "name": "stdout",
     "output_type": "stream",
     "text": [
      "Average loss: 0.454369, Train accuracy: 0.864724, Val accuracy: 0.873319\n"
     ]
    },
    {
     "name": "stderr",
     "output_type": "stream",
     "text": [
      "\n"
     ]
    }
   ],
   "source": [
    "Hyperparams2 = namedtuple(\"Hyperparams2\", ['conv1_out', 'conv2_out', 'n_epoch', 'non_linear'])\n",
    "\n",
    "run_result2 = {}\n",
    "\n",
    "for conv1_out, conv2_out, n_epoch, non_linear in tqdm(create_params(layers_param_grid, n_iter=10)):\n",
    "    param = Hyperparams2(conv1_out, conv2_out, n_epoch, non_linear)\n",
    "    print(param)\n",
    "    lr, anneal_ap, r_str = best_hyperparams\n",
    "\n",
    "    best_model = nn.Sequential(\n",
    "        nn.Conv2d(in_channels=3, kernel_size=5, out_channels=conv1_out, stride=1),\n",
    "        nn.BatchNorm2d(conv1_out),\n",
    "        non_linear(),\n",
    "\n",
    "        nn.MaxPool2d(kernel_size=2),\n",
    "\n",
    "        nn.Conv2d(in_channels=conv1_out, kernel_size=5, out_channels=conv2_out),\n",
    "        nn.BatchNorm2d(conv2_out),\n",
    "        non_linear(),\n",
    "\n",
    "        nn.MaxPool2d(2),\n",
    "\n",
    "        nn.Conv2d(in_channels=conv2_out, out_channels=120, kernel_size=5),\n",
    "        nn.BatchNorm2d(120),\n",
    "        non_linear(),\n",
    "\n",
    "        nn.Flatten(),\n",
    "        nn.Linear(in_features=120, out_features=10),\n",
    "    )\n",
    "\n",
    "    best_model.type(torch.cuda.FloatTensor)\n",
    "    best_model.to(device)\n",
    "\n",
    "    loss = nn.CrossEntropyLoss().type(torch.cuda.FloatTensor)\n",
    "    optimizer = optim.Adam(best_model.parameters(), lr=lr, weight_decay=r_str)\n",
    "    sheduler = optim.lr_scheduler.ReduceLROnPlateau(optimizer, patience=anneal_ap)\n",
    "\n",
    "\n",
    "    loss_history, train_history, val_history = train_model(best_model, \n",
    "                                                            train_aug_loader, \n",
    "                                                            val_loader, \n",
    "                                                            loss, \n",
    "                                                            optimizer, \n",
    "                                                            n_epoch, \n",
    "                                                            sheduler=sheduler)\n",
    "    result = RunResult(best_model, train_history, val_history, val_history[-1])\n",
    "    run_result2[param] = result"
   ]
  },
  {
   "cell_type": "code",
   "execution_count": 60,
   "metadata": {
    "colab": {
     "base_uri": "https://localhost:8080/"
    },
    "id": "PbYd4opI1h2a",
    "outputId": "58c5c190-ae61-4259-a73e-7c0e400a0258"
   },
   "outputs": [
    {
     "name": "stdout",
     "output_type": "stream",
     "text": [
      "Best validation accuracy: 0.88, best hyperparams: Hyperparams2(conv1_out=11, conv2_out=22, n_epoch=18, non_linear=<class 'torch.nn.modules.activation.ReLU'>)\n"
     ]
    }
   ],
   "source": [
    "best_val_accuracy_2 = None\n",
    "best_hyperparams_2 = None\n",
    "best_run_2 = None\n",
    "\n",
    "for hyperparams, run_accuracy in run_result2.items():\n",
    "    if best_val_accuracy_2 is None or best_val_accuracy_2 < run_accuracy.final_val_accuracy:\n",
    "        best_val_accuracy_2 = run_accuracy.final_val_accuracy\n",
    "        best_hyperparams_2 = hyperparams\n",
    "        best_run_2 = run_result\n",
    "        \n",
    "print(\"Best validation accuracy: %4.2f, best hyperparams: %s\" % (best_val_accuracy_2, best_hyperparams_2))"
   ]
  },
  {
   "cell_type": "code",
   "execution_count": 62,
   "metadata": {
    "colab": {
     "base_uri": "https://localhost:8080/"
    },
    "id": "TXgFg_lFTBrX",
    "outputId": "73e5bb17-7903-42b3-a5db-f9eb08fd06d2"
   },
   "outputs": [
    {
     "name": "stderr",
     "output_type": "stream",
     "text": [
      "  0%|          | 0/3 [00:00<?, ?it/s]"
     ]
    },
    {
     "name": "stdout",
     "output_type": "stream",
     "text": [
      "Hyperparams2(conv1_out=13, conv2_out=29, n_epoch=23, non_linear=<class 'torch.nn.modules.activation.ReLU'>)\n",
      "epoch number 0\n",
      "Average loss: 1.126692, Train accuracy: 0.655598, Val accuracy: 0.792847\n",
      "Average loss: 0.689793, Train accuracy: 0.789185, Val accuracy: 0.824449\n",
      "Average loss: 0.595048, Train accuracy: 0.819728, Val accuracy: 0.850932\n",
      "Average loss: 0.542504, Train accuracy: 0.836143, Val accuracy: 0.859054\n",
      "Average loss: 0.506255, Train accuracy: 0.847268, Val accuracy: 0.861443\n",
      "epoch number 5\n",
      "Average loss: 0.480486, Train accuracy: 0.854537, Val accuracy: 0.869838\n",
      "Average loss: 0.464853, Train accuracy: 0.860612, Val accuracy: 0.870453\n",
      "Average loss: 0.447045, Train accuracy: 0.865713, Val accuracy: 0.877824\n",
      "Average loss: 0.437212, Train accuracy: 0.869331, Val accuracy: 0.874343\n",
      "Average loss: 0.426364, Train accuracy: 0.872658, Val accuracy: 0.878916\n",
      "epoch number 10\n",
      "Average loss: 0.417274, Train accuracy: 0.876173, Val accuracy: 0.865265\n",
      "Average loss: 0.409903, Train accuracy: 0.876992, Val accuracy: 0.875981\n",
      "Average loss: 0.406667, Train accuracy: 0.878664, Val accuracy: 0.882192\n",
      "Average loss: 0.400797, Train accuracy: 0.878664, Val accuracy: 0.887516\n",
      "Average loss: 0.393618, Train accuracy: 0.883084, Val accuracy: 0.889359\n",
      "epoch number 15\n",
      "Average loss: 0.390952, Train accuracy: 0.883851, Val accuracy: 0.886765\n",
      "Average loss: 0.387013, Train accuracy: 0.884517, Val accuracy: 0.890383\n",
      "Average loss: 0.382183, Train accuracy: 0.885711, Val accuracy: 0.884035\n",
      "Average loss: 0.378137, Train accuracy: 0.887588, Val accuracy: 0.893045\n",
      "Average loss: 0.376663, Train accuracy: 0.890233, Val accuracy: 0.890792\n",
      "epoch number 20\n",
      "Average loss: 0.374500, Train accuracy: 0.889158, Val accuracy: 0.889564\n",
      "Average loss: 0.370823, Train accuracy: 0.889977, Val accuracy: 0.895843\n"
     ]
    },
    {
     "name": "stderr",
     "output_type": "stream",
     "text": [
      " 33%|███▎      | 1/3 [18:14<36:28, 1094.33s/it]"
     ]
    },
    {
     "name": "stdout",
     "output_type": "stream",
     "text": [
      "Average loss: 0.368769, Train accuracy: 0.890762, Val accuracy: 0.887516\n",
      "Hyperparams2(conv1_out=12, conv2_out=21, n_epoch=19, non_linear=<class 'torch.nn.modules.activation.ReLU'>)\n",
      "epoch number 0\n",
      "Average loss: 1.228114, Train accuracy: 0.615585, Val accuracy: 0.767456\n",
      "Average loss: 0.737274, Train accuracy: 0.774938, Val accuracy: 0.812026\n",
      "Average loss: 0.640003, Train accuracy: 0.805481, Val accuracy: 0.832981\n",
      "Average loss: 0.582989, Train accuracy: 0.822629, Val accuracy: 0.848065\n",
      "Average loss: 0.547297, Train accuracy: 0.834198, Val accuracy: 0.856256\n",
      "epoch number 5\n",
      "Average loss: 0.520311, Train accuracy: 0.843395, Val accuracy: 0.858440\n",
      "Average loss: 0.501047, Train accuracy: 0.849299, Val accuracy: 0.862467\n",
      "Average loss: 0.483911, Train accuracy: 0.854469, Val accuracy: 0.862945\n",
      "Average loss: 0.471681, Train accuracy: 0.858257, Val accuracy: 0.866289\n",
      "Average loss: 0.457851, Train accuracy: 0.862164, Val accuracy: 0.876391\n",
      "epoch number 10\n",
      "Average loss: 0.447524, Train accuracy: 0.866276, Val accuracy: 0.872910\n",
      "Average loss: 0.443332, Train accuracy: 0.867164, Val accuracy: 0.874480\n",
      "Average loss: 0.433683, Train accuracy: 0.869570, Val accuracy: 0.877346\n",
      "Average loss: 0.428334, Train accuracy: 0.872300, Val accuracy: 0.878234\n",
      "Average loss: 0.422713, Train accuracy: 0.872948, Val accuracy: 0.877551\n",
      "epoch number 15\n",
      "Average loss: 0.417016, Train accuracy: 0.876139, Val accuracy: 0.882875\n",
      "Average loss: 0.408727, Train accuracy: 0.879091, Val accuracy: 0.880896\n",
      "Average loss: 0.411193, Train accuracy: 0.877385, Val accuracy: 0.880349\n"
     ]
    },
    {
     "name": "stderr",
     "output_type": "stream",
     "text": [
      " 67%|██████▋   | 2/3 [33:03<17:12, 1032.79s/it]"
     ]
    },
    {
     "name": "stdout",
     "output_type": "stream",
     "text": [
      "Average loss: 0.403667, Train accuracy: 0.880132, Val accuracy: 0.880418\n",
      "Hyperparams2(conv1_out=12, conv2_out=25, n_epoch=20, non_linear=<class 'torch.nn.modules.activation.ReLU'>)\n",
      "epoch number 0\n",
      "Average loss: 1.154423, Train accuracy: 0.644251, Val accuracy: 0.775783\n",
      "Average loss: 0.703104, Train accuracy: 0.787257, Val accuracy: 0.819876\n",
      "Average loss: 0.609462, Train accuracy: 0.817391, Val accuracy: 0.841581\n",
      "Average loss: 0.562227, Train accuracy: 0.830273, Val accuracy: 0.854549\n",
      "Average loss: 0.520657, Train accuracy: 0.840870, Val accuracy: 0.859737\n",
      "epoch number 5\n",
      "Average loss: 0.501981, Train accuracy: 0.847609, Val accuracy: 0.865606\n",
      "Average loss: 0.479502, Train accuracy: 0.855066, Val accuracy: 0.861579\n",
      "Average loss: 0.463693, Train accuracy: 0.861021, Val accuracy: 0.872500\n",
      "Average loss: 0.453587, Train accuracy: 0.863205, Val accuracy: 0.870589\n",
      "Average loss: 0.442758, Train accuracy: 0.867949, Val accuracy: 0.874070\n",
      "epoch number 10\n",
      "Average loss: 0.432960, Train accuracy: 0.870901, Val accuracy: 0.881510\n",
      "Average loss: 0.425982, Train accuracy: 0.872965, Val accuracy: 0.882329\n",
      "Average loss: 0.421469, Train accuracy: 0.873921, Val accuracy: 0.879326\n",
      "Average loss: 0.413818, Train accuracy: 0.875269, Val accuracy: 0.880486\n",
      "Average loss: 0.407004, Train accuracy: 0.878460, Val accuracy: 0.883011\n",
      "epoch number 15\n",
      "Average loss: 0.404975, Train accuracy: 0.878118, Val accuracy: 0.883762\n",
      "Average loss: 0.400295, Train accuracy: 0.880644, Val accuracy: 0.878780\n",
      "Average loss: 0.395520, Train accuracy: 0.882367, Val accuracy: 0.883353\n",
      "Average loss: 0.393163, Train accuracy: 0.883305, Val accuracy: 0.888813\n"
     ]
    },
    {
     "name": "stderr",
     "output_type": "stream",
     "text": [
      "100%|██████████| 3/3 [48:37<00:00, 972.63s/it] "
     ]
    },
    {
     "name": "stdout",
     "output_type": "stream",
     "text": [
      "Average loss: 0.391471, Train accuracy: 0.883323, Val accuracy: 0.887789\n"
     ]
    },
    {
     "name": "stderr",
     "output_type": "stream",
     "text": [
      "\n"
     ]
    }
   ],
   "source": [
    "layers_param_grid = {\n",
    "    'conv1_out': randint(10, 21),\n",
    "    'conv2_out': randint(20, 35),\n",
    "    'n_epoch': randint(15, 31),\n",
    "    'non_linear': [nn.ReLU]\n",
    "}\n",
    "run_result2 = {}\n",
    "\n",
    "for conv1_out, conv2_out, n_epoch, non_linear in tqdm(create_params(layers_param_grid, n_iter=3)):\n",
    "    param = Hyperparams2(conv1_out, conv2_out, n_epoch, non_linear)\n",
    "    print(param)s\n",
    "    lr, anneal_ap, r_str = best_hyperparams\n",
    "\n",
    "    best_model = nn.Sequential(\n",
    "        nn.Conv2d(in_channels=3, kernel_size=5, out_channels=conv1_out, stride=1),\n",
    "        nn.BatchNorm2d(conv1_out),\n",
    "        non_linear(),\n",
    "\n",
    "        nn.MaxPool2d(kernel_size=2),\n",
    "\n",
    "        nn.Conv2d(in_channels=conv1_out, kernel_size=5, out_channels=conv2_out),\n",
    "        nn.BatchNorm2d(conv2_out),\n",
    "        non_linear(),\n",
    "\n",
    "        nn.MaxPool2d(2),\n",
    "\n",
    "        nn.Conv2d(in_channels=conv2_out, out_channels=120, kernel_size=5),\n",
    "        nn.BatchNorm2d(120),\n",
    "        non_linear(),\n",
    "\n",
    "        nn.Flatten(),\n",
    "        nn.Linear(in_features=120, out_features=10),\n",
    "    )\n",
    "\n",
    "    best_model.type(torch.cuda.FloatTensor)\n",
    "    best_model.to(device)\n",
    "\n",
    "    loss = nn.CrossEntropyLoss().type(torch.cuda.FloatTensor)\n",
    "    optimizer = optim.Adam(best_model.parameters(), lr=lr, weight_decay=r_str)\n",
    "    sheduler = optim.lr_scheduler.ReduceLROnPlateau(optimizer, patience=anneal_ap)\n",
    "\n",
    "\n",
    "    loss_history, train_history, val_history = train_model(best_model, \n",
    "                                                            train_aug_loader, \n",
    "                                                            val_loader, \n",
    "                                                            loss, \n",
    "                                                            optimizer, \n",
    "                                                            n_epoch, \n",
    "                                                            sheduler=sheduler)\n",
    "    result = RunResult(best_model, train_history, val_history, val_history[-1])\n",
    "    run_result2[param] = result"
   ]
  },
  {
   "cell_type": "code",
   "execution_count": 63,
   "metadata": {
    "colab": {
     "base_uri": "https://localhost:8080/"
    },
    "id": "HiwgBHHgTlwo",
    "outputId": "720df88f-ae05-4aa1-9172-8e8d66dbe61a"
   },
   "outputs": [
    {
     "name": "stdout",
     "output_type": "stream",
     "text": [
      "Best validation accuracy: 0.89, best hyperparams: Hyperparams2(conv1_out=12, conv2_out=25, n_epoch=20, non_linear=<class 'torch.nn.modules.activation.ReLU'>)\n"
     ]
    }
   ],
   "source": [
    "best_val_accuracy_2 = None\n",
    "best_hyperparams_2 = None\n",
    "best_run_2 = None\n",
    "\n",
    "for hyperparams, run_accuracy in run_result2.items():\n",
    "    if best_val_accuracy_2 is None or best_val_accuracy_2 < run_accuracy.final_val_accuracy:\n",
    "        best_val_accuracy_2 = run_accuracy.final_val_accuracy\n",
    "        best_hyperparams_2 = hyperparams\n",
    "        best_run_2 = run_result\n",
    "        \n",
    "print(\"Best validation accuracy: %4.2f, best hyperparams: %s\" % (best_val_accuracy_2, best_hyperparams_2))"
   ]
  },
  {
   "cell_type": "code",
   "execution_count": 66,
   "metadata": {
    "colab": {
     "base_uri": "https://localhost:8080/"
    },
    "id": "zCt83JNHpb8F",
    "outputId": "68b35f33-bf10-4dce-f6ba-5dd75c3cca6e"
   },
   "outputs": [
    {
     "name": "stdout",
     "output_type": "stream",
     "text": [
      "Hyperparams2(conv1_out=13, conv2_out=29, n_epoch=23, non_linear=<class 'torch.nn.modules.activation.ReLU'>) 0.887516210497577\n",
      "Hyperparams2(conv1_out=12, conv2_out=21, n_epoch=19, non_linear=<class 'torch.nn.modules.activation.ReLU'>) 0.8804177189270357\n",
      "Hyperparams2(conv1_out=12, conv2_out=25, n_epoch=20, non_linear=<class 'torch.nn.modules.activation.ReLU'>) 0.8877892294041362\n"
     ]
    }
   ],
   "source": [
    "for key, value in run_result2.items():\n",
    "    print(key, value.final_val_accuracy)"
   ]
  },
  {
   "cell_type": "code",
   "execution_count": 67,
   "metadata": {
    "colab": {
     "base_uri": "https://localhost:8080/"
    },
    "id": "f2mAuvowpRLo",
    "outputId": "3d6436c7-2cbf-4feb-b8f7-118a435dc156"
   },
   "outputs": [
    {
     "name": "stdout",
     "output_type": "stream",
     "text": [
      "epoch number 0\n",
      "Average loss: 1.136484, Train accuracy: 0.646214, Val accuracy: 0.781790\n",
      "Average loss: 0.703671, Train accuracy: 0.783930, Val accuracy: 0.821923\n",
      "Average loss: 0.614290, Train accuracy: 0.813296, Val accuracy: 0.834824\n",
      "Average loss: 0.555864, Train accuracy: 0.830717, Val accuracy: 0.845335\n",
      "Average loss: 0.519868, Train accuracy: 0.843736, Val accuracy: 0.858440\n",
      "epoch number 5\n",
      "Average loss: 0.497416, Train accuracy: 0.849828, Val accuracy: 0.868200\n",
      "Average loss: 0.472497, Train accuracy: 0.857608, Val accuracy: 0.871545\n",
      "Average loss: 0.457932, Train accuracy: 0.861908, Val accuracy: 0.873114\n",
      "Average loss: 0.443500, Train accuracy: 0.867317, Val accuracy: 0.874070\n",
      "Average loss: 0.436205, Train accuracy: 0.870235, Val accuracy: 0.879530\n",
      "epoch number 10\n",
      "Average loss: 0.423629, Train accuracy: 0.873716, Val accuracy: 0.878643\n",
      "Average loss: 0.418419, Train accuracy: 0.874740, Val accuracy: 0.877005\n",
      "Average loss: 0.408442, Train accuracy: 0.879381, Val accuracy: 0.883762\n",
      "Average loss: 0.404500, Train accuracy: 0.879620, Val accuracy: 0.885059\n",
      "Average loss: 0.401963, Train accuracy: 0.880166, Val accuracy: 0.888062\n",
      "epoch number 15\n",
      "Average loss: 0.393858, Train accuracy: 0.883169, Val accuracy: 0.884513\n",
      "Average loss: 0.391015, Train accuracy: 0.885438, Val accuracy: 0.886902\n",
      "Average loss: 0.386207, Train accuracy: 0.885899, Val accuracy: 0.888335\n",
      "Average loss: 0.383398, Train accuracy: 0.886940, Val accuracy: 0.892158\n",
      "Average loss: 0.382253, Train accuracy: 0.888220, Val accuracy: 0.891065\n"
     ]
    }
   ],
   "source": [
    "conv1_out = 20\n",
    "conv2_out = 25\n",
    "n_epoch = 20\n",
    "\n",
    "best_model = nn.Sequential(\n",
    "        nn.Conv2d(in_channels=3, kernel_size=5, out_channels=conv1_out, stride=1),\n",
    "        nn.BatchNorm2d(conv1_out),\n",
    "        non_linear(),\n",
    "\n",
    "        nn.MaxPool2d(kernel_size=2),\n",
    "\n",
    "        nn.Conv2d(in_channels=conv1_out, kernel_size=5, out_channels=conv2_out),\n",
    "        nn.BatchNorm2d(conv2_out),\n",
    "        non_linear(),\n",
    "\n",
    "        nn.MaxPool2d(2),\n",
    "\n",
    "        nn.Conv2d(in_channels=conv2_out, out_channels=120, kernel_size=5),\n",
    "        nn.BatchNorm2d(120),\n",
    "        non_linear(),\n",
    "\n",
    "        nn.Flatten(),\n",
    "        nn.Linear(in_features=120, out_features=10),\n",
    ")\n",
    "\n",
    "best_model.type(torch.cuda.FloatTensor)\n",
    "best_model.to(device)\n",
    "\n",
    "loss = nn.CrossEntropyLoss().type(torch.cuda.FloatTensor)\n",
    "optimizer = optim.Adam(best_model.parameters(), lr=lr, weight_decay=r_str)\n",
    "sheduler = optim.lr_scheduler.ReduceLROnPlateau(optimizer, patience=anneal_ap)\n",
    "\n",
    "\n",
    "loss_history, train_history, val_history = train_model(best_model, \n",
    "                                                        train_aug_loader, \n",
    "                                                        val_loader, \n",
    "                                                        loss, \n",
    "                                                        optimizer, \n",
    "                                                        n_epoch, \n",
    "                                                        sheduler=sheduler)"
   ]
  },
  {
   "cell_type": "markdown",
   "metadata": {
    "id": "ubeKgBcnhx7N"
   },
   "source": [
    "# Финальный аккорд - проверим лучшую модель на test set\n",
    "\n",
    "В качестве разнообразия - напишите код для прогона модели на test set вы.\n",
    "\n",
    "В результате вы должны натренировать модель, которая покажет более **90%** точности на test set.  \n",
    "Как водится, лучший результат в группе получит дополнительные баллы!"
   ]
  },
  {
   "cell_type": "code",
   "execution_count": 69,
   "metadata": {
    "colab": {
     "base_uri": "https://localhost:8080/"
    },
    "id": "BfH6qip6kVX_",
    "outputId": "47dc9625-84fa-4603-ef5a-7d4b004d1efb"
   },
   "outputs": [
    {
     "name": "stdout",
     "output_type": "stream",
     "text": [
      "Test accuracy: 0.8896\n"
     ]
    }
   ],
   "source": [
    "test_loader = torch.utils.data.DataLoader(data_test, batch_size=batch_size)\n",
    "final_test_accuracy = compute_accuracy(best_model, test_loader)\n",
    "print(\"Test accuracy: %2.4f\" % final_test_accuracy)"
   ]
  },
  {
   "cell_type": "markdown",
   "metadata": {},
   "source": [
    "## Дальше колаб потерял соединение, поэтому я решил оставить так"
   ]
  }
 ],
 "metadata": {
  "accelerator": "GPU",
  "colab": {
   "collapsed_sections": [],
   "name": "PyTorch_CNN.ipynb",
   "provenance": []
  },
  "kernelspec": {
   "display_name": "Python 3",
   "language": "python",
   "name": "python3"
  },
  "language_info": {
   "codemirror_mode": {
    "name": "ipython",
    "version": 3
   },
   "file_extension": ".py",
   "mimetype": "text/x-python",
   "name": "python",
   "nbconvert_exporter": "python",
   "pygments_lexer": "ipython3",
   "version": "3.8.3"
  }
 },
 "nbformat": 4,
 "nbformat_minor": 4
}
